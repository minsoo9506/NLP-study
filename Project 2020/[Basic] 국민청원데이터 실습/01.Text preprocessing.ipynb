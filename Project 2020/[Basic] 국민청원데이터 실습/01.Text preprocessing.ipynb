{
 "cells": [
  {
   "cell_type": "markdown",
   "metadata": {},
   "source": [
    "# Index"
   ]
  },
  {
   "cell_type": "code",
   "execution_count": 1,
   "metadata": {},
   "outputs": [],
   "source": [
    "import warnings\n",
    "warnings.filterwarnings('ignore')\n",
    "\n",
    "import pandas as pd\n",
    "import numpy as np"
   ]
  },
  {
   "cell_type": "code",
   "execution_count": 5,
   "metadata": {},
   "outputs": [
    {
     "data": {
      "text/html": [
       "<div>\n",
       "<style scoped>\n",
       "    .dataframe tbody tr th:only-of-type {\n",
       "        vertical-align: middle;\n",
       "    }\n",
       "\n",
       "    .dataframe tbody tr th {\n",
       "        vertical-align: top;\n",
       "    }\n",
       "\n",
       "    .dataframe thead th {\n",
       "        text-align: right;\n",
       "    }\n",
       "</style>\n",
       "<table border=\"1\" class=\"dataframe\">\n",
       "  <thead>\n",
       "    <tr style=\"text-align: right;\">\n",
       "      <th></th>\n",
       "      <th>start</th>\n",
       "      <th>end</th>\n",
       "      <th>answered</th>\n",
       "      <th>votes</th>\n",
       "      <th>category</th>\n",
       "      <th>title</th>\n",
       "      <th>content</th>\n",
       "    </tr>\n",
       "    <tr>\n",
       "      <th>article_id</th>\n",
       "      <th></th>\n",
       "      <th></th>\n",
       "      <th></th>\n",
       "      <th></th>\n",
       "      <th></th>\n",
       "      <th></th>\n",
       "      <th></th>\n",
       "    </tr>\n",
       "  </thead>\n",
       "  <tbody>\n",
       "    <tr>\n",
       "      <th>21</th>\n",
       "      <td>2017-08-19</td>\n",
       "      <td>2017-11-17</td>\n",
       "      <td>0</td>\n",
       "      <td>9</td>\n",
       "      <td>안전/환경</td>\n",
       "      <td>스텔라 데이지호에 대한 제안입니다.</td>\n",
       "      <td>스텔라 데이지호에 대한 제안입니다.\\n3월31일 스텔라 데이지호가 침몰하고 5달째가...</td>\n",
       "    </tr>\n",
       "    <tr>\n",
       "      <th>22</th>\n",
       "      <td>2017-08-19</td>\n",
       "      <td>2017-11-17</td>\n",
       "      <td>0</td>\n",
       "      <td>17</td>\n",
       "      <td>기타</td>\n",
       "      <td>비리제보처를 만들어주세요.</td>\n",
       "      <td>현 정부에 국민들이 가장 원하는 것은 부패척결입니다.  우리 사회에 각종 비리들이 ...</td>\n",
       "    </tr>\n",
       "    <tr>\n",
       "      <th>23</th>\n",
       "      <td>2017-08-19</td>\n",
       "      <td>2017-09-03</td>\n",
       "      <td>0</td>\n",
       "      <td>0</td>\n",
       "      <td>미래</td>\n",
       "      <td>제2의 개성공단</td>\n",
       "      <td>만일 하시는 대통령님 및 각 부처 장관님,주무관님들 안녕하세요!!\\n전남 목포에서 ...</td>\n",
       "    </tr>\n",
       "  </tbody>\n",
       "</table>\n",
       "</div>"
      ],
      "text/plain": [
       "                start        end  answered  votes category  \\\n",
       "article_id                                                   \n",
       "21         2017-08-19 2017-11-17         0      9    안전/환경   \n",
       "22         2017-08-19 2017-11-17         0     17       기타   \n",
       "23         2017-08-19 2017-09-03         0      0       미래   \n",
       "\n",
       "                          title  \\\n",
       "article_id                        \n",
       "21          스텔라 데이지호에 대한 제안입니다.   \n",
       "22               비리제보처를 만들어주세요.   \n",
       "23                     제2의 개성공단   \n",
       "\n",
       "                                                      content  \n",
       "article_id                                                     \n",
       "21          스텔라 데이지호에 대한 제안입니다.\\n3월31일 스텔라 데이지호가 침몰하고 5달째가...  \n",
       "22          현 정부에 국민들이 가장 원하는 것은 부패척결입니다.  우리 사회에 각종 비리들이 ...  \n",
       "23          만일 하시는 대통령님 및 각 부처 장관님,주무관님들 안녕하세요!!\\n전남 목포에서 ...  "
      ]
     },
     "execution_count": 5,
     "metadata": {},
     "output_type": "execute_result"
    }
   ],
   "source": [
    "petition = pd.read_csv('petition.csv', parse_dates=['start','end'], index_col=0)\n",
    "petition.head(3)"
   ]
  },
  {
   "cell_type": "code",
   "execution_count": 4,
   "metadata": {},
   "outputs": [
    {
     "data": {
      "text/plain": [
       "(395547, 8)"
      ]
     },
     "execution_count": 4,
     "metadata": {},
     "output_type": "execute_result"
    }
   ],
   "source": [
    "petition.shape"
   ]
  },
  {
   "cell_type": "code",
   "execution_count": 6,
   "metadata": {},
   "outputs": [
    {
     "data": {
      "text/plain": [
       "start       0\n",
       "end         0\n",
       "answered    0\n",
       "votes       0\n",
       "category    0\n",
       "title       0\n",
       "content     1\n",
       "dtype: int64"
      ]
     },
     "execution_count": 6,
     "metadata": {},
     "output_type": "execute_result"
    }
   ],
   "source": [
    "petition.isnull().sum()"
   ]
  },
  {
   "cell_type": "code",
   "execution_count": 12,
   "metadata": {},
   "outputs": [
    {
     "data": {
      "text/plain": [
       "Index(['start', 'end', 'answered', 'votes', 'category', 'title', 'content'], dtype='object')"
      ]
     },
     "execution_count": 12,
     "metadata": {},
     "output_type": "execute_result"
    }
   ],
   "source": [
    "petition.columns"
   ]
  },
  {
   "cell_type": "code",
   "execution_count": 14,
   "metadata": {},
   "outputs": [],
   "source": [
    "import re"
   ]
  },
  {
   "cell_type": "code",
   "execution_count": 15,
   "metadata": {},
   "outputs": [
    {
     "data": {
      "text/plain": [
       "array(['안전/환경', '기타', '미래', '일자리', '보건복지', '정치개혁', '경제민주화', '인권/성평등',\n",
       "       '외교/통일/국방', '육아/교육', '문화/예술/체육/언론', '반려동물', '교통/건축/국토', '행정',\n",
       "       '농산어촌', '저출산/고령화대책', '성장동력'], dtype=object)"
      ]
     },
     "execution_count": 15,
     "metadata": {},
     "output_type": "execute_result"
    }
   ],
   "source": [
    "petition['category'].unique()"
   ]
  },
  {
   "cell_type": "code",
   "execution_count": 18,
   "metadata": {},
   "outputs": [
    {
     "data": {
      "text/plain": [
       "(13173, 7)"
      ]
     },
     "execution_count": 18,
     "metadata": {},
     "output_type": "execute_result"
    }
   ],
   "source": [
    "p = r'.*(돌봄|육아|초등).*'\n",
    "care = petition[petition['title'].str.match(p) |\n",
    "        petition['content'].str.match(p, flags=re.MULTILINE)]\n",
    "care.shape"
   ]
  },
  {
   "cell_type": "code",
   "execution_count": 31,
   "metadata": {},
   "outputs": [
    {
     "data": {
      "text/html": [
       "<div>\n",
       "<style scoped>\n",
       "    .dataframe tbody tr th:only-of-type {\n",
       "        vertical-align: middle;\n",
       "    }\n",
       "\n",
       "    .dataframe tbody tr th {\n",
       "        vertical-align: top;\n",
       "    }\n",
       "\n",
       "    .dataframe thead th {\n",
       "        text-align: right;\n",
       "    }\n",
       "</style>\n",
       "<table border=\"1\" class=\"dataframe\">\n",
       "  <thead>\n",
       "    <tr style=\"text-align: right;\">\n",
       "      <th></th>\n",
       "      <th>start</th>\n",
       "      <th>end</th>\n",
       "      <th>answered</th>\n",
       "      <th>votes</th>\n",
       "      <th>category</th>\n",
       "      <th>title</th>\n",
       "      <th>content</th>\n",
       "    </tr>\n",
       "    <tr>\n",
       "      <th>article_id</th>\n",
       "      <th></th>\n",
       "      <th></th>\n",
       "      <th></th>\n",
       "      <th></th>\n",
       "      <th></th>\n",
       "      <th></th>\n",
       "      <th></th>\n",
       "    </tr>\n",
       "  </thead>\n",
       "  <tbody>\n",
       "    <tr>\n",
       "      <th>24</th>\n",
       "      <td>2017-08-19</td>\n",
       "      <td>2017-08-26</td>\n",
       "      <td>0</td>\n",
       "      <td>53</td>\n",
       "      <td>일자리</td>\n",
       "      <td>공공기관 무조건적인 정규직전환을 반대합니다.</td>\n",
       "      <td>현정부에서 정규직 일자리를 늘리는 것에 찬성합니다. 그런데 공공기관 비정규직들은 인...</td>\n",
       "    </tr>\n",
       "    <tr>\n",
       "      <th>36</th>\n",
       "      <td>2017-08-19</td>\n",
       "      <td>2017-08-26</td>\n",
       "      <td>0</td>\n",
       "      <td>1</td>\n",
       "      <td>인권/성평등</td>\n",
       "      <td>한국채식인구 100만명. 학교 급식 및 군대에서 현미채식 선택권을 보장해주십시오!</td>\n",
       "      <td>문재인 대통령님과 각 정부 인사분들께 마음속 깊이 존경과 감사를 표합니다. 대한민국...</td>\n",
       "    </tr>\n",
       "    <tr>\n",
       "      <th>45</th>\n",
       "      <td>2017-08-19</td>\n",
       "      <td>2017-11-17</td>\n",
       "      <td>0</td>\n",
       "      <td>0</td>\n",
       "      <td>육아/교육</td>\n",
       "      <td>초등학교 교사 임용 시험 관련 해결방안</td>\n",
       "      <td>초등학교 교사 임용 시험을 수능 시험 처럼 전국 단위로 실시하고난 후에\\n1지망 2...</td>\n",
       "    </tr>\n",
       "  </tbody>\n",
       "</table>\n",
       "</div>"
      ],
      "text/plain": [
       "                start        end  answered  votes category  \\\n",
       "article_id                                                   \n",
       "24         2017-08-19 2017-08-26         0     53      일자리   \n",
       "36         2017-08-19 2017-08-26         0      1   인권/성평등   \n",
       "45         2017-08-19 2017-11-17         0      0    육아/교육   \n",
       "\n",
       "                                                    title  \\\n",
       "article_id                                                  \n",
       "24                               공공기관 무조건적인 정규직전환을 반대합니다.   \n",
       "36          한국채식인구 100만명. 학교 급식 및 군대에서 현미채식 선택권을 보장해주십시오!   \n",
       "45                                  초등학교 교사 임용 시험 관련 해결방안   \n",
       "\n",
       "                                                      content  \n",
       "article_id                                                     \n",
       "24          현정부에서 정규직 일자리를 늘리는 것에 찬성합니다. 그런데 공공기관 비정규직들은 인...  \n",
       "36          문재인 대통령님과 각 정부 인사분들께 마음속 깊이 존경과 감사를 표합니다. 대한민국...  \n",
       "45          초등학교 교사 임용 시험을 수능 시험 처럼 전국 단위로 실시하고난 후에\\n1지망 2...  "
      ]
     },
     "execution_count": 31,
     "metadata": {},
     "output_type": "execute_result"
    }
   ],
   "source": [
    "care.head(3)"
   ]
  },
  {
   "cell_type": "markdown",
   "metadata": {},
   "source": [
    "## 01. Tokenization"
   ]
  },
  {
   "cell_type": "markdown",
   "metadata": {},
   "source": [
    "- sentence tokenization"
   ]
  },
  {
   "cell_type": "code",
   "execution_count": 30,
   "metadata": {},
   "outputs": [],
   "source": [
    "#!pip install cython\n",
    "#!pip install kss\n",
    "import kss"
   ]
  },
  {
   "cell_type": "code",
   "execution_count": 45,
   "metadata": {},
   "outputs": [],
   "source": [
    "tmpContent = care.loc[45,'content']"
   ]
  },
  {
   "cell_type": "code",
   "execution_count": 46,
   "metadata": {},
   "outputs": [
    {
     "data": {
      "text/plain": [
       "'초등학교 교사 임용 시험을 수능 시험 처럼 전국 단위로 실시하고난 후에\\\\n1지망 2지망 3지망으로 근무하고 싶은 지역을 선택해서 성적순으로 배정했으면 합니다.\\\\n그리고 해당 대학이 소재한 교육청에서 임용 시험 응시할 때 주어지는 가산점도 없애야합니다.\\\\n이미 수능 시험 점수에 맞춰서 해당 대학에 합격했으므로 수능 점수의 유효성은 끝이 났습니다.\\\\n전국 단위의 시험을 봐서 과목별 원점수,표준변환점수,백분위를 성적표에 공지해서\\\\n예비 교사들이 본인 성적에 맞게 근무지역을 선택하는 것입니다.\\\\n만약 응시자가 성적이 높다면 1지망 지역에 배정이 될테고\\\\n점수가 낮으면 2지망 혹은 3지망으로 밀리거나 임용 탈락이 되겠지요\\\\n배정 받은 지역에서 근무하면서 해당 지역이 마음에 들면 계속 근무하고\\\\n해당 지역이 마음에 들지 않으면 다음에 다시 시험을 봐서 근무지를 옮길 수 있도록 하는 것입니다.'"
      ]
     },
     "execution_count": 46,
     "metadata": {},
     "output_type": "execute_result"
    }
   ],
   "source": [
    "tmpContent"
   ]
  },
  {
   "cell_type": "code",
   "execution_count": 47,
   "metadata": {},
   "outputs": [
    {
     "name": "stdout",
     "output_type": "stream",
     "text": [
      "초등학교 교사 임용 시험을 수능 시험 처럼 전국 단위로 실시하고난 후에\\n1지망 2지망 3지망으로 근무하고 싶은 지역을 선택해서 성적순으로 배정했으면 합니다.\n",
      "\\n그리고 해당 대학이 소재한 교육청에서 임용 시험 응시할 때 주어지는 가산점도 없애야합니다.\n",
      "\\n이미 수능 시험 점수에 맞춰서 해당 대학에 합격했으므로 수능 점수의 유효성은 끝이 났습니다.\n",
      "\\n전국 단위의 시험을 봐서 과목별 원점수,표준변환점수,백분위를 성적표에 공지해서\\n예비 교사들이 본인 성적에 맞게 근무지역을 선택하는 것입니다.\n",
      "\\n만약 응시자가 성적이 높다면 1지망 지역에 배정이 될테고\\n점수가 낮으면 2지망 혹은 3지망으로 밀리거나 임용 탈락이 되겠지요\n",
      "\\n배정 받은 지역에서 근무하면서 해당 지역이 마음에 들면 계속 근무하고\\n해당 지역이 마음에 들지 않으면 다음에 다시 시험을 봐서 근무지를 옮길 수 있도록 하는 것입니다.\n"
     ]
    }
   ],
   "source": [
    "for sen in kss.split_sentences(tmpContent):\n",
    "    print(sen)"
   ]
  },
  {
   "cell_type": "markdown",
   "metadata": {},
   "source": [
    "- 형태소 토큰화(morpheme tokenization)\n",
    "    - 영어와 다르게 '어절'이 아니라 '형태소'!!"
   ]
  },
  {
   "cell_type": "code",
   "execution_count": 59,
   "metadata": {},
   "outputs": [],
   "source": [
    "from konlpy.tag import Mecab\n",
    "from torchtext import data"
   ]
  },
  {
   "cell_type": "markdown",
   "metadata": {},
   "source": [
    "tokenizer 선언"
   ]
  },
  {
   "cell_type": "code",
   "execution_count": 60,
   "metadata": {},
   "outputs": [],
   "source": [
    "tokenizer = Mecab()"
   ]
  },
  {
   "cell_type": "code",
   "execution_count": 48,
   "metadata": {},
   "outputs": [],
   "source": [
    "tmpTitle = care.loc[45,'title']"
   ]
  },
  {
   "cell_type": "code",
   "execution_count": 49,
   "metadata": {},
   "outputs": [
    {
     "data": {
      "text/plain": [
       "['초등', '학교', '교사', '임용', '시험', '관련', '해결', '방안']"
      ]
     },
     "execution_count": 49,
     "metadata": {},
     "output_type": "execute_result"
    }
   ],
   "source": [
    "tokenizer.morphs(tmpTitle)"
   ]
  },
  {
   "cell_type": "code",
   "execution_count": 50,
   "metadata": {},
   "outputs": [
    {
     "data": {
      "text/plain": [
       "[('초등', 'NNG'),\n",
       " ('학교', 'NNG'),\n",
       " ('교사', 'NNG'),\n",
       " ('임용', 'NNG'),\n",
       " ('시험', 'NNG'),\n",
       " ('관련', 'NNG'),\n",
       " ('해결', 'NNG'),\n",
       " ('방안', 'NNG')]"
      ]
     },
     "execution_count": 50,
     "metadata": {},
     "output_type": "execute_result"
    }
   ],
   "source": [
    "tokenizer.pos(tmpTitle)"
   ]
  },
  {
   "cell_type": "code",
   "execution_count": 51,
   "metadata": {},
   "outputs": [
    {
     "data": {
      "text/plain": [
       "['초등', '학교', '교사', '임용', '시험', '관련', '해결', '방안']"
      ]
     },
     "execution_count": 51,
     "metadata": {},
     "output_type": "execute_result"
    }
   ],
   "source": [
    "tokenizer.nouns(tmpTitle)"
   ]
  },
  {
   "cell_type": "markdown",
   "metadata": {},
   "source": [
    "## 02. Cleaning and Normalization\n",
    "- Cleaning : 갖고 있는 코퍼스에서 노이즈 데이터 제거\n",
    "- Normalization : 표현 방법이 다른 단어들을 통합시켜서 같은 단어로 만들기"
   ]
  },
  {
   "cell_type": "code",
   "execution_count": 52,
   "metadata": {},
   "outputs": [],
   "source": [
    "def preprocessing(text):\n",
    "    text = re.sub('\\\\\\\\n', ' ', text)\n",
    "    text = re.sub(' +',' ', text)\n",
    "    return text"
   ]
  },
  {
   "cell_type": "code",
   "execution_count": 54,
   "metadata": {},
   "outputs": [
    {
     "data": {
      "text/plain": [
       "'초등학교 교사 임용 시험을 수능 시험 처럼 전국 단위로 실시하고난 후에\\\\n1지망 2지망 3지망으로 근무하고 싶은 지역을 선택해서 성적순으로 배정했으면 합니다.\\\\n그리고 해당 대학이 소재한 교육청에서 임용 시험 응시할 때 주어지는 가산점도 없애야합니다.\\\\n이미 수능 시험 점수에 맞춰서 해당 대학에 합격했으므로 수능 점수의 유효성은 끝이 났습니다.\\\\n전국 단위의 시험을 봐서 과목별 원점수,표준변환점수,백분위를 성적표에 공지해서\\\\n예비 교사들이 본인 성적에 맞게 근무지역을 선택하는 것입니다.\\\\n만약 응시자가 성적이 높다면 1지망 지역에 배정이 될테고\\\\n점수가 낮으면 2지망 혹은 3지망으로 밀리거나 임용 탈락이 되겠지요\\\\n배정 받은 지역에서 근무하면서 해당 지역이 마음에 들면 계속 근무하고\\\\n해당 지역이 마음에 들지 않으면 다음에 다시 시험을 봐서 근무지를 옮길 수 있도록 하는 것입니다.'"
      ]
     },
     "execution_count": 54,
     "metadata": {},
     "output_type": "execute_result"
    }
   ],
   "source": [
    "tmpContent"
   ]
  },
  {
   "cell_type": "code",
   "execution_count": 53,
   "metadata": {},
   "outputs": [
    {
     "data": {
      "text/plain": [
       "'초등학교 교사 임용 시험을 수능 시험 처럼 전국 단위로 실시하고난 후에 1지망 2지망 3지망으로 근무하고 싶은 지역을 선택해서 성적순으로 배정했으면 합니다. 그리고 해당 대학이 소재한 교육청에서 임용 시험 응시할 때 주어지는 가산점도 없애야합니다. 이미 수능 시험 점수에 맞춰서 해당 대학에 합격했으므로 수능 점수의 유효성은 끝이 났습니다. 전국 단위의 시험을 봐서 과목별 원점수,표준변환점수,백분위를 성적표에 공지해서 예비 교사들이 본인 성적에 맞게 근무지역을 선택하는 것입니다. 만약 응시자가 성적이 높다면 1지망 지역에 배정이 될테고 점수가 낮으면 2지망 혹은 3지망으로 밀리거나 임용 탈락이 되겠지요 배정 받은 지역에서 근무하면서 해당 지역이 마음에 들면 계속 근무하고 해당 지역이 마음에 들지 않으면 다음에 다시 시험을 봐서 근무지를 옮길 수 있도록 하는 것입니다.'"
      ]
     },
     "execution_count": 53,
     "metadata": {},
     "output_type": "execute_result"
    }
   ],
   "source": [
    "preprocessing(tmpContent)"
   ]
  },
  {
   "cell_type": "markdown",
   "metadata": {},
   "source": [
    "## 03. Stemming and Lemmatization"
   ]
  },
  {
   "cell_type": "markdown",
   "metadata": {},
   "source": [
    "## 04. Stopword\n",
    "- csv, txt 로 따로 불용어 리스트를 만들어 놓다 불어와서 사용하면 좋다"
   ]
  },
  {
   "cell_type": "code",
   "execution_count": 63,
   "metadata": {},
   "outputs": [
    {
     "data": {
      "text/plain": [
       "['하지만',\n",
       " '그리고',\n",
       " '그런데',\n",
       " '저는',\n",
       " '제가',\n",
       " '그럼',\n",
       " '이런',\n",
       " '저런',\n",
       " '합니다',\n",
       " '많은',\n",
       " '많이',\n",
       " '정말',\n",
       " '너무',\n",
       " '또는',\n",
       " '그렇게',\n",
       " '도대체',\n",
       " '다시',\n",
       " '계속',\n",
       " '다음에']"
      ]
     },
     "execution_count": 63,
     "metadata": {},
     "output_type": "execute_result"
    }
   ],
   "source": [
    "stopwords = '하지만 그리고 그런데 저는 제가 \\\n",
    "그럼 이런 저런 합니다 많은 많이 정말 너무 또는 그렇게 도대체 다시 \\\n",
    "계속 다음에'\n",
    "\n",
    "stopwords = stopwords.split(' ')\n",
    "stopwords"
   ]
  },
  {
   "cell_type": "code",
   "execution_count": 64,
   "metadata": {},
   "outputs": [
    {
     "name": "stdout",
     "output_type": "stream",
     "text": [
      "['초등', '학교', '교사', '임용', '시험', '을', '수능', '시험', '처럼', '전국', '단위', '로', '실시', '하', '고', '난', '후', '에', '1', '지망', '2', '지망', '3', '지망', '으로', '근무', '하', '고', '싶', '은', '지역', '을', '선택', '해서', '성적순', '으로', '배정', '했', '으면', '.', '해당', '대학', '이', '소재', '한', '교육청', '에서', '임용', '시험', '응시', '할', '때', '주어지', '는', '가산점', '도', '없애', '야', '.', '이미', '수능', '시험', '점수', '에', '맞춰서', '해당', '대학', '에', '합격', '했으므로', '수능', '점수', '의', '유효', '성', '은', '끝', '이', '났', '습니다', '.', '전국', '단위', '의', '시험', '을', '봐서', '과목', '별', '원', '점수', ',', '표준', '변환', '점수', ',', '백', '분위', '를', '성적표', '에', '공지', '해서', '예비', '교사', '들', '이', '본인', '성적', '에', '맞', '게', '근무', '지역', '을', '선택', '하', '는', '것', '입니다', '.', '만약', '응시자', '가', '성적', '이', '높', '다면', '1', '지망', '지역', '에', '배정', '이', '될', '테', '고', '점수', '가', '낮', '으면', '2', '지망', '혹은', '3', '지망', '으로', '밀리', '거나', '임용', '탈락', '이', '되', '겠', '지요', '배정', '받', '은', '지역', '에서', '근무', '하', '면서', '해당', '지역', '이', '마음', '에', '들', '면', '근무', '하', '고', '해당', '지역', '이', '마음', '에', '들', '지', '않', '으면', '다음', '에', '시험', '을', '봐서', '근무지', '를', '옮길', '수', '있', '도록', '하', '는', '것', '입니다', '.']\n"
     ]
    }
   ],
   "source": [
    "tmp = preprocessing(tmpContent)\n",
    "tmp = tokenizer.morphs(tmp)\n",
    "\n",
    "result = [word for word in tmp if not word in stopwords]\n",
    "print(result)"
   ]
  },
  {
   "cell_type": "markdown",
   "metadata": {},
   "source": [
    "## 05. Regular Expression\n",
    "- https://wikidocs.net/21703"
   ]
  },
  {
   "cell_type": "markdown",
   "metadata": {},
   "source": [
    "## 06. Integer Encoding"
   ]
  },
  {
   "cell_type": "code",
   "execution_count": 65,
   "metadata": {},
   "outputs": [],
   "source": [
    "from collections import Counter"
   ]
  },
  {
   "cell_type": "code",
   "execution_count": 68,
   "metadata": {},
   "outputs": [],
   "source": [
    "vocab = Counter(result)"
   ]
  },
  {
   "cell_type": "code",
   "execution_count": 70,
   "metadata": {},
   "outputs": [
    {
     "data": {
      "text/plain": [
       "[('에', 9),\n",
       " ('이', 8),\n",
       " ('시험', 6),\n",
       " ('하', 6),\n",
       " ('지망', 6),\n",
       " ('지역', 6),\n",
       " ('을', 5),\n",
       " ('.', 5),\n",
       " ('점수', 5),\n",
       " ('고', 4)]"
      ]
     },
     "execution_count": 70,
     "metadata": {},
     "output_type": "execute_result"
    }
   ],
   "source": [
    "vocab.most_common(10)"
   ]
  },
  {
   "cell_type": "code",
   "execution_count": 73,
   "metadata": {},
   "outputs": [
    {
     "name": "stdout",
     "output_type": "stream",
     "text": [
      "{'에': 1, '이': 2, '시험': 3, '하': 4, '지망': 5}\n"
     ]
    }
   ],
   "source": [
    "wordToIndex = {}\n",
    "i = 0\n",
    "for (word, frequency) in vocab.most_common(5) :\n",
    "    i = i+1\n",
    "    wordToIndex[word] = i\n",
    "print(wordToIndex)"
   ]
  },
  {
   "cell_type": "markdown",
   "metadata": {},
   "source": [
    "## 07.Padding\n",
    "- 문장의 길이를 맞춘다"
   ]
  },
  {
   "cell_type": "code",
   "execution_count": 75,
   "metadata": {},
   "outputs": [],
   "source": [
    "sentence = []\n",
    "for sen in kss.split_sentences(preprocessing(tmpContent)):\n",
    "    sentence.append(sen)\n",
    "\n",
    "sentenceToken = []\n",
    "for i in sentence:\n",
    "    sentenceToken.append(tokenizer.morphs(i))\n",
    "\n",
    "forCount = np.hstack(sentenceToken) \n",
    "vocab = Counter(forCount)\n",
    "\n",
    "wordToIndex = {}\n",
    "i = 0\n",
    "for (word, frequency) in vocab.most_common(len(vocab)) :\n",
    "    i = i+1\n",
    "    wordToIndex[word] = i\n",
    "\n",
    "intSentence = []\n",
    "for i in sentenceToken:\n",
    "    intSentence.append([wordToIndex[key] for key in i])"
   ]
  },
  {
   "cell_type": "code",
   "execution_count": 97,
   "metadata": {},
   "outputs": [
    {
     "name": "stdout",
     "output_type": "stream",
     "text": [
      "74\n"
     ]
    }
   ],
   "source": [
    "maxLen = max(len(item) for item in intSentence)\n",
    "print(maxLen)"
   ]
  },
  {
   "cell_type": "code",
   "execution_count": 98,
   "metadata": {},
   "outputs": [
    {
     "data": {
      "text/plain": [
       "array([[ 41,  42,  21,  13,   3,   7,  14,   3,  43,  22,  23,  44,  45,\n",
       "          4,  10,  46,  47,   1,  24,   5,  25,   5,  26,   5,  15,  11,\n",
       "          4,  10,  48,  16,   6,   7,  27,  28,  49,  15,  17,  50,  18,\n",
       "         29,   8,   0,   0,   0,   0,   0,   0,   0,   0,   0,   0,   0,\n",
       "          0,   0,   0,   0,   0,   0,   0,   0,   0,   0,   0,   0,   0,\n",
       "          0,   0,   0,   0,   0,   0,   0,   0,   0],\n",
       "       [ 51,  12,  30,   2,  52,  53,  54,  31,  13,   3,  55,  56,  57,\n",
       "         58,  19,  59,  60,  61,  62,  29,   8,   0,   0,   0,   0,   0,\n",
       "          0,   0,   0,   0,   0,   0,   0,   0,   0,   0,   0,   0,   0,\n",
       "          0,   0,   0,   0,   0,   0,   0,   0,   0,   0,   0,   0,   0,\n",
       "          0,   0,   0,   0,   0,   0,   0,   0,   0,   0,   0,   0,   0,\n",
       "          0,   0,   0,   0,   0,   0,   0,   0,   0],\n",
       "       [ 63,  14,   3,   9,   1,  64,  12,  30,   1,  65,  66,  14,   9,\n",
       "         32,  67,  68,  16,  69,   2,  70,  71,   8,   0,   0,   0,   0,\n",
       "          0,   0,   0,   0,   0,   0,   0,   0,   0,   0,   0,   0,   0,\n",
       "          0,   0,   0,   0,   0,   0,   0,   0,   0,   0,   0,   0,   0,\n",
       "          0,   0,   0,   0,   0,   0,   0,   0,   0,   0,   0,   0,   0,\n",
       "          0,   0,   0,   0,   0,   0,   0,   0,   0],\n",
       "       [ 22,  23,  32,   3,   7,  33,  72,  73,  74,   9,  34,  75,  76,\n",
       "          9,  34,  77,  78,  35,  79,   1,  80,  28,  81,  21,  20,   2,\n",
       "         82,  36,   1,  83,  84,  11,   6,   7,  27,   4,  19,  37,  38,\n",
       "          8,  85,  86,  39,  36,   2,  87,  88,  24,   5,   6,   1,  17,\n",
       "          2,  89,  90,  10,   9,  39,  91,  18,  25,   5,  92,  26,   5,\n",
       "         15,  93,  94,  13,  95,   2,  96,  97,  98],\n",
       "       [ 17,  99,  16,   6,  31,  11,   4, 100,  12,   6,   2,  40,   1,\n",
       "         20, 101, 102,  11,   4,  10,  12,   6,   2,  40,   1,  20, 103,\n",
       "        104,  18, 105,   1, 106,   3,   7,  33, 107,  35, 108, 109, 110,\n",
       "        111,   4,  19,  37,  38,   8,   0,   0,   0,   0,   0,   0,   0,\n",
       "          0,   0,   0,   0,   0,   0,   0,   0,   0,   0,   0,   0,   0,\n",
       "          0,   0,   0,   0,   0,   0,   0,   0,   0]])"
      ]
     },
     "execution_count": 98,
     "metadata": {},
     "output_type": "execute_result"
    }
   ],
   "source": [
    "# padding with 0\n",
    "for item in intSentence:\n",
    "    while len(item) < maxLen:\n",
    "        item.append(0)\n",
    "padded = np.array(intSentence)\n",
    "padded"
   ]
  },
  {
   "cell_type": "markdown",
   "metadata": {},
   "source": [
    "## 08. One hot encoding"
   ]
  }
 ],
 "metadata": {
  "kernelspec": {
   "display_name": "Python 3",
   "language": "python",
   "name": "python3"
  },
  "language_info": {
   "codemirror_mode": {
    "name": "ipython",
    "version": 3
   },
   "file_extension": ".py",
   "mimetype": "text/x-python",
   "name": "python",
   "nbconvert_exporter": "python",
   "pygments_lexer": "ipython3",
   "version": "3.7.7"
  }
 },
 "nbformat": 4,
 "nbformat_minor": 4
}
