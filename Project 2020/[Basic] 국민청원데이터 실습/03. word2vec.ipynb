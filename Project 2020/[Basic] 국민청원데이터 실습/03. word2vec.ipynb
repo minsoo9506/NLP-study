{
 "cells": [
  {
   "cell_type": "code",
   "execution_count": 2,
   "metadata": {},
   "outputs": [
    {
     "data": {
      "text/plain": [
       "(20619, 8)"
      ]
     },
     "execution_count": 2,
     "metadata": {},
     "output_type": "execute_result"
    }
   ],
   "source": [
    "import pandas as pd\n",
    "import numpy as np\n",
    "import re\n",
    "\n",
    "df = pd.read_csv('petition.csv', parse_dates=['start', 'end'])\n",
    "\n",
    "p = r'.*(P2P|은행|금융|주식|증권|공매도).*'\n",
    "finance = df[df['title'].str.match(p) |\n",
    "           df['content'].str.match(p, flags=re.MULTILINE)]\n",
    "finance.shape"
   ]
  },
  {
   "cell_type": "code",
   "execution_count": 32,
   "metadata": {},
   "outputs": [],
   "source": [
    "def preprocessing(text):\n",
    "    # 개행문자 제거\n",
    "    text = re.sub('\\\\\\\\n', ' ', text)\n",
    "    # 특수문자 제거\n",
    "    # 특수문자나 이모티콘 등은 때로는 의미를 갖기도 하지만 여기에서는 제거했습니다.\n",
    "    # text = re.sub('[?.,;:|\\)*~`’!^\\-_+<>@\\#$%&-=#}※]', '', text)\n",
    "    # 한글, 영문, 숫자만 남기고 모두 제거하도록 합니다.\n",
    "    # text = re.sub('[^가-힣ㄱ-ㅎㅏ-ㅣa-zA-Z0-9]', ' ', text)\n",
    "    # 한글, 영문만 남기고 모두 제거하도록 합니다.\n",
    "    text = re.sub('[^가-힣ㄱ-ㅎㅏ-ㅣa-zA-Z]', ' ', text)\n",
    "    return text"
   ]
  },
  {
   "cell_type": "code",
   "execution_count": 33,
   "metadata": {},
   "outputs": [],
   "source": [
    "def remove_stopwords(text):\n",
    "    stops = ['수', '있는', '있습니다', '그', '년도', '에', '합니다', \n",
    "             '하는', '및', '제', '할', '하고', '더', '대한', '한', \n",
    "             '그리고', '월', '저는', '없는', '것입니다', '등', '일', \n",
    "             '많은', '이런', '것은', '왜', '같은', \n",
    "             '없습니다', '위해', '한다']\n",
    "    meaningful_words = [w for w in text if not w in stops]\n",
    "    return ''.join(meaningful_words)"
   ]
  },
  {
   "cell_type": "code",
   "execution_count": 34,
   "metadata": {},
   "outputs": [
    {
     "name": "stderr",
     "output_type": "stream",
     "text": [
      "/opt/conda/lib/python3.7/site-packages/ipykernel_launcher.py:1: SettingWithCopyWarning: \n",
      "A value is trying to be set on a copy of a slice from a DataFrame.\n",
      "Try using .loc[row_indexer,col_indexer] = value instead\n",
      "\n",
      "See the caveats in the documentation: https://pandas.pydata.org/pandas-docs/stable/user_guide/indexing.html#returning-a-view-versus-a-copy\n",
      "  \"\"\"Entry point for launching an IPython kernel.\n",
      "/opt/conda/lib/python3.7/site-packages/ipykernel_launcher.py:2: SettingWithCopyWarning: \n",
      "A value is trying to be set on a copy of a slice from a DataFrame.\n",
      "Try using .loc[row_indexer,col_indexer] = value instead\n",
      "\n",
      "See the caveats in the documentation: https://pandas.pydata.org/pandas-docs/stable/user_guide/indexing.html#returning-a-view-versus-a-copy\n",
      "  \n"
     ]
    },
    {
     "data": {
      "text/plain": [
       "(20619,)"
      ]
     },
     "execution_count": 34,
     "metadata": {},
     "output_type": "execute_result"
    }
   ],
   "source": [
    "finance['content_preprocessing'] = finance['content'].apply(preprocessing)\n",
    "finance['content_preprocessing'] = finance['content_preprocessing'].apply(remove_stopwords)\n",
    "sentences = finance['content_preprocessing']\n",
    "sentences.shape"
   ]
  },
  {
   "cell_type": "code",
   "execution_count": 35,
   "metadata": {},
   "outputs": [
    {
     "data": {
      "text/plain": [
       "(20619,)"
      ]
     },
     "execution_count": 35,
     "metadata": {},
     "output_type": "execute_result"
    }
   ],
   "source": [
    "from konlpy.tag import Mecab\n",
    "\n",
    "tokenizer = Mecab()\n",
    "\n",
    "tokens = sentences.apply(tokenizer.morphs)\n",
    "tokens.shape"
   ]
  },
  {
   "cell_type": "code",
   "execution_count": 36,
   "metadata": {},
   "outputs": [],
   "source": [
    "from gensim.models import Word2Vec\n",
    "\n",
    "model = Word2Vec(tokens, min_count=2)"
   ]
  },
  {
   "cell_type": "code",
   "execution_count": 37,
   "metadata": {},
   "outputs": [],
   "source": [
    "model_name = 'myFirstWord2Vec'\n",
    "model.save(model_name)"
   ]
  },
  {
   "cell_type": "code",
   "execution_count": 38,
   "metadata": {},
   "outputs": [
    {
     "name": "stdout",
     "output_type": "stream",
     "text": [
      "How many words : 45614\n"
     ]
    }
   ],
   "source": [
    "print(f'How many words : {len(model.wv.vocab)}')"
   ]
  },
  {
   "cell_type": "code",
   "execution_count": 40,
   "metadata": {},
   "outputs": [
    {
     "data": {
      "text/plain": [
       "(100,)"
      ]
     },
     "execution_count": 40,
     "metadata": {},
     "output_type": "execute_result"
    }
   ],
   "source": [
    "model.wv['주식'].shape"
   ]
  },
  {
   "cell_type": "code",
   "execution_count": 41,
   "metadata": {},
   "outputs": [
    {
     "data": {
      "text/plain": [
       "array([ 2.3918262e+00,  1.7614355e+00, -9.3036705e-01,  1.6763264e-01,\n",
       "       -2.0786109e+00,  1.3726033e+00, -2.4452315e-01,  2.2072434e+00,\n",
       "        8.5448869e-02,  1.8817682e+00, -2.6107504e+00, -2.8198178e+00,\n",
       "        1.2302750e+00, -2.3065550e+00, -1.3445963e+00,  1.0059332e+00,\n",
       "        7.7189493e-01, -5.7391918e-01,  1.6814463e+00,  6.4651412e-01,\n",
       "       -9.5726478e-01,  3.7930554e-01,  1.7085050e+00,  1.0098234e+00,\n",
       "        2.7693987e+00, -2.8526764e+00, -6.3369548e-01, -1.0701298e+00,\n",
       "       -1.6354696e+00,  6.2112623e-01, -8.2971275e-01,  6.4071447e-01,\n",
       "        1.3107079e+00, -1.3701034e+00, -1.4352335e-01,  1.5358517e+00,\n",
       "       -1.9609819e-01, -1.6610689e+00,  5.8598530e-01,  2.5405486e+00,\n",
       "        4.4289160e+00,  1.3315256e+00,  2.4916465e+00,  7.2838467e-01,\n",
       "       -5.3586406e-01,  2.2291210e+00, -2.8378940e+00,  4.0778880e+00,\n",
       "        8.2217228e-01,  1.8327168e-01, -6.5454990e-01, -2.4170539e+00,\n",
       "       -2.3304131e+00,  3.2586048e+00, -1.0530858e+00, -4.2208109e+00,\n",
       "        1.2705008e+00,  1.6566590e+00,  3.8545072e+00, -3.9922315e-01,\n",
       "        6.2776178e-01, -1.4808733e+00,  1.0657341e+00, -3.2018228e+00,\n",
       "       -4.8325741e-01,  1.3757703e+00, -2.0138786e+00,  3.9518890e-01,\n",
       "       -3.3027182e+00, -1.8441818e+00, -1.8433676e+00,  2.6095753e+00,\n",
       "       -1.3258574e+00, -2.0618596e+00,  2.2752824e+00, -8.2592189e-01,\n",
       "       -1.3758690e+00, -1.2822589e+00, -2.1097250e+00, -2.1949801e-01,\n",
       "       -6.8563439e-02, -1.2740558e+00,  2.5288899e+00,  2.2408998e+00,\n",
       "       -1.7323148e+00,  3.1600616e+00, -2.6725845e+00, -2.6232793e+00,\n",
       "       -2.6333065e+00,  3.8007731e+00,  1.6949457e+00,  9.9592012e-01,\n",
       "       -1.3825510e+00,  2.4649773e+00,  6.8271220e-05, -3.2519507e+00,\n",
       "        2.6002619e+00, -5.6030345e-01, -6.4179611e-01,  2.0988642e-01],\n",
       "      dtype=float32)"
      ]
     },
     "execution_count": 41,
     "metadata": {},
     "output_type": "execute_result"
    }
   ],
   "source": [
    "model.wv['주식']"
   ]
  },
  {
   "cell_type": "code",
   "execution_count": 42,
   "metadata": {},
   "outputs": [
    {
     "data": {
      "text/plain": [
       "[('코스닥', 0.7152674794197083),\n",
       " ('코인', 0.6482715010643005),\n",
       " ('증권', 0.6475867033004761),\n",
       " ('종목', 0.5747853517532349),\n",
       " ('유가증권', 0.5464624166488647),\n",
       " ('주가', 0.5442466735839844),\n",
       " ('현물', 0.5314433574676514),\n",
       " ('갭', 0.5297795534133911),\n",
       " ('개미', 0.52653568983078),\n",
       " ('연기금', 0.5231413841247559)]"
      ]
     },
     "execution_count": 42,
     "metadata": {},
     "output_type": "execute_result"
    }
   ],
   "source": [
    "model.wv.most_similar('주식')"
   ]
  },
  {
   "cell_type": "code",
   "execution_count": 43,
   "metadata": {},
   "outputs": [
    {
     "data": {
      "text/plain": [
       "[('코스닥', 0.6901332139968872),\n",
       " ('오세훈', 0.5590704679489136),\n",
       " ('삼성증권', 0.5430185794830322),\n",
       " ('유가증권', 0.5267007350921631),\n",
       " ('박원순', 0.5166797637939453),\n",
       " ('조성자', 0.5089632272720337),\n",
       " ('주직', 0.5025186538696289),\n",
       " ('은미', 0.5014826655387878),\n",
       " ('ㅉㅉㅉ', 0.49340736865997314),\n",
       " ('연기금', 0.48443490266799927)]"
      ]
     },
     "execution_count": 43,
     "metadata": {},
     "output_type": "execute_result"
    }
   ],
   "source": [
    "model.wv.most_similar(positive=['주식', '증권'], negative=['현금'])"
   ]
  },
  {
   "cell_type": "code",
   "execution_count": 44,
   "metadata": {
    "scrolled": true
   },
   "outputs": [
    {
     "data": {
      "text/plain": [
       "0.3414917"
      ]
     },
     "execution_count": 44,
     "metadata": {},
     "output_type": "execute_result"
    }
   ],
   "source": [
    "model.wv.similarity('삼성증권', '이재용')"
   ]
  },
  {
   "cell_type": "markdown",
   "metadata": {},
   "source": [
    "## 시각화"
   ]
  },
  {
   "cell_type": "code",
   "execution_count": 45,
   "metadata": {},
   "outputs": [],
   "source": [
    "from sklearn.manifold import TSNE\n",
    "import matplotlib as mpl\n",
    "import matplotlib.pyplot as plt\n",
    "import gensim \n",
    "import gensim.models as g\n",
    "\n",
    "# 그래프에서 마이너스 폰트 깨지는 문제에 대한 대처\n",
    "mpl.rcParams['axes.unicode_minus'] = False\n",
    "\n",
    "model_name = 'myFirstWord2Vec'\n",
    "model = g.Doc2Vec.load(model_name)"
   ]
  },
  {
   "cell_type": "code",
   "execution_count": 46,
   "metadata": {},
   "outputs": [
    {
     "name": "stderr",
     "output_type": "stream",
     "text": [
      "/opt/conda/lib/python3.7/site-packages/ipykernel_launcher.py:4: DeprecationWarning: Call to deprecated `__getitem__` (Method will be removed in 4.0.0, use self.wv.__getitem__() instead).\n",
      "  after removing the cwd from sys.path.\n"
     ]
    },
    {
     "name": "stdout",
     "output_type": "stream",
     "text": [
      "Feature의 길이 45614\n",
      "[-0.88079286  0.955231   -2.0075145   1.0422472   2.2242877   1.3103964\n",
      "  1.7685103   1.9248633   1.947339    1.6871921 ]\n"
     ]
    }
   ],
   "source": [
    "# Doc2Vec으로 만든 모델을 가져옴\n",
    "vocab = list(model.wv.vocab)\n",
    "# 모델의 단어를 피처로 지정해 준다.\n",
    "X = model[vocab]\n",
    "\n",
    "print('Feature의 길이 {}'.format(len(X)))\n",
    "print(X[0][:10])\n",
    "tsne = TSNE(n_components=2)\n",
    "\n",
    "# 모든 단어를 그래프에 출력하면 글자가 너무 많이 겹치기 때문에 일부 단어에 대해서만 시각화\n",
    "X_tsne = tsne.fit_transform(X[:150,:])"
   ]
  },
  {
   "cell_type": "code",
   "execution_count": 48,
   "metadata": {},
   "outputs": [
    {
     "data": {
      "text/plain": [
       "(150, 2)"
      ]
     },
     "execution_count": 48,
     "metadata": {},
     "output_type": "execute_result"
    }
   ],
   "source": [
    "df = pd.DataFrame(X_tsne, index=vocab[:150], columns=['x', 'y'])\n",
    "df.shape"
   ]
  }
 ],
 "metadata": {
  "kernelspec": {
   "display_name": "Python 3",
   "language": "python",
   "name": "python3"
  },
  "language_info": {
   "codemirror_mode": {
    "name": "ipython",
    "version": 3
   },
   "file_extension": ".py",
   "mimetype": "text/x-python",
   "name": "python",
   "nbconvert_exporter": "python",
   "pygments_lexer": "ipython3",
   "version": "3.7.7"
  }
 },
 "nbformat": 4,
 "nbformat_minor": 4
}
