{
 "cells": [
  {
   "cell_type": "markdown",
   "metadata": {},
   "source": [
    "about pLSA : https://ratsgo.github.io/from%20frequency%20to%20semantics/2017/05/25/plsa/"
   ]
  },
  {
   "cell_type": "markdown",
   "metadata": {},
   "source": [
    "## LDA"
   ]
  },
  {
   "cell_type": "code",
   "execution_count": 1,
   "metadata": {
    "ExecuteTime": {
     "end_time": "2020-07-25T13:24:10.526927Z",
     "start_time": "2020-07-25T13:24:06.091021Z"
    }
   },
   "outputs": [
    {
     "data": {
      "text/html": [
       "<div>\n",
       "<style scoped>\n",
       "    .dataframe tbody tr th:only-of-type {\n",
       "        vertical-align: middle;\n",
       "    }\n",
       "\n",
       "    .dataframe tbody tr th {\n",
       "        vertical-align: top;\n",
       "    }\n",
       "\n",
       "    .dataframe thead th {\n",
       "        text-align: right;\n",
       "    }\n",
       "</style>\n",
       "<table border=\"1\" class=\"dataframe\">\n",
       "  <thead>\n",
       "    <tr style=\"text-align: right;\">\n",
       "      <th></th>\n",
       "      <th>start</th>\n",
       "      <th>end</th>\n",
       "      <th>answered</th>\n",
       "      <th>votes</th>\n",
       "      <th>category</th>\n",
       "      <th>title</th>\n",
       "      <th>content</th>\n",
       "    </tr>\n",
       "    <tr>\n",
       "      <th>article_id</th>\n",
       "      <th></th>\n",
       "      <th></th>\n",
       "      <th></th>\n",
       "      <th></th>\n",
       "      <th></th>\n",
       "      <th></th>\n",
       "      <th></th>\n",
       "    </tr>\n",
       "  </thead>\n",
       "  <tbody>\n",
       "    <tr>\n",
       "      <th>21</th>\n",
       "      <td>2017-08-19</td>\n",
       "      <td>2017-11-17</td>\n",
       "      <td>0</td>\n",
       "      <td>9</td>\n",
       "      <td>안전/환경</td>\n",
       "      <td>스텔라 데이지호에 대한 제안입니다.</td>\n",
       "      <td>스텔라 데이지호에 대한 제안입니다.\\n3월31일 스텔라 데이지호가 침몰하고 5달째가...</td>\n",
       "    </tr>\n",
       "    <tr>\n",
       "      <th>22</th>\n",
       "      <td>2017-08-19</td>\n",
       "      <td>2017-11-17</td>\n",
       "      <td>0</td>\n",
       "      <td>17</td>\n",
       "      <td>기타</td>\n",
       "      <td>비리제보처를 만들어주세요.</td>\n",
       "      <td>현 정부에 국민들이 가장 원하는 것은 부패척결입니다.  우리 사회에 각종 비리들이 ...</td>\n",
       "    </tr>\n",
       "    <tr>\n",
       "      <th>23</th>\n",
       "      <td>2017-08-19</td>\n",
       "      <td>2017-09-03</td>\n",
       "      <td>0</td>\n",
       "      <td>0</td>\n",
       "      <td>미래</td>\n",
       "      <td>제2의 개성공단</td>\n",
       "      <td>만일 하시는 대통령님 및 각 부처 장관님,주무관님들 안녕하세요!!\\n전남 목포에서 ...</td>\n",
       "    </tr>\n",
       "  </tbody>\n",
       "</table>\n",
       "</div>"
      ],
      "text/plain": [
       "                start        end  answered  votes category  \\\n",
       "article_id                                                   \n",
       "21         2017-08-19 2017-11-17         0      9    안전/환경   \n",
       "22         2017-08-19 2017-11-17         0     17       기타   \n",
       "23         2017-08-19 2017-09-03         0      0       미래   \n",
       "\n",
       "                          title  \\\n",
       "article_id                        \n",
       "21          스텔라 데이지호에 대한 제안입니다.   \n",
       "22               비리제보처를 만들어주세요.   \n",
       "23                     제2의 개성공단   \n",
       "\n",
       "                                                      content  \n",
       "article_id                                                     \n",
       "21          스텔라 데이지호에 대한 제안입니다.\\n3월31일 스텔라 데이지호가 침몰하고 5달째가...  \n",
       "22          현 정부에 국민들이 가장 원하는 것은 부패척결입니다.  우리 사회에 각종 비리들이 ...  \n",
       "23          만일 하시는 대통령님 및 각 부처 장관님,주무관님들 안녕하세요!!\\n전남 목포에서 ...  "
      ]
     },
     "execution_count": 1,
     "metadata": {},
     "output_type": "execute_result"
    }
   ],
   "source": [
    "import warnings\n",
    "warnings.filterwarnings('ignore')\n",
    "\n",
    "import pandas as pd\n",
    "import numpy as np\n",
    "import re\n",
    "\n",
    "petition = pd.read_csv('petition.csv', parse_dates=['start','end'], index_col=0)\n",
    "petition.head(3)"
   ]
  },
  {
   "cell_type": "code",
   "execution_count": 2,
   "metadata": {
    "ExecuteTime": {
     "end_time": "2020-07-25T13:24:24.915140Z",
     "start_time": "2020-07-25T13:24:24.894969Z"
    }
   },
   "outputs": [
    {
     "data": {
      "text/plain": [
       "array(['안전/환경', '기타', '미래', '일자리', '보건복지', '정치개혁', '경제민주화', '인권/성평등',\n",
       "       '외교/통일/국방', '육아/교육', '문화/예술/체육/언론', '반려동물', '교통/건축/국토', '행정',\n",
       "       '농산어촌', '저출산/고령화대책', '성장동력'], dtype=object)"
      ]
     },
     "execution_count": 2,
     "metadata": {},
     "output_type": "execute_result"
    }
   ],
   "source": [
    "petition['category'].unique()"
   ]
  },
  {
   "cell_type": "markdown",
   "metadata": {},
   "source": [
    "### '안전/환경','보건복지' 두 개의 주제를 Topic Modeling 해보겠습니다."
   ]
  },
  {
   "cell_type": "code",
   "execution_count": 4,
   "metadata": {
    "ExecuteTime": {
     "end_time": "2020-07-25T13:25:58.156447Z",
     "start_time": "2020-07-25T13:25:58.136833Z"
    }
   },
   "outputs": [],
   "source": [
    "data = petition.loc[petition['category'].isin(['안전/환경','보건복지'])]"
   ]
  },
  {
   "cell_type": "code",
   "execution_count": 6,
   "metadata": {
    "ExecuteTime": {
     "end_time": "2020-07-25T13:26:16.370080Z",
     "start_time": "2020-07-25T13:26:16.367285Z"
    }
   },
   "outputs": [
    {
     "data": {
      "text/plain": [
       "(55486, 7)"
      ]
     },
     "execution_count": 6,
     "metadata": {},
     "output_type": "execute_result"
    }
   ],
   "source": [
    "data.shape"
   ]
  },
  {
   "cell_type": "markdown",
   "metadata": {},
   "source": [
    "전처리를 진행합니다."
   ]
  },
  {
   "cell_type": "code",
   "execution_count": 7,
   "metadata": {
    "ExecuteTime": {
     "end_time": "2020-07-25T13:26:20.983614Z",
     "start_time": "2020-07-25T13:26:20.980043Z"
    }
   },
   "outputs": [],
   "source": [
    "def preprocessing(text):\n",
    "    # 개행문자 제거\n",
    "    text = re.sub('\\\\\\\\n', ' ', text)\n",
    "    # 특수문자 제거\n",
    "    # text = re.sub('[?.,;:|\\)*~`’!^\\-_+<>@\\#$%&-=#}※]', '', text)\n",
    "    # 한글, 영문, 숫자만 남기고 모두 제거하도록 합니다.\n",
    "    # text = re.sub('[^가-힣ㄱ-ㅎㅏ-ㅣa-zA-Z0-9]', ' ', text)\n",
    "    # 한글, 영문만 남기고 모두 제거하도록 합니다.\n",
    "    text = re.sub('[^가-힣ㄱ-ㅎㅏ-ㅣa-zA-Z]', ' ', text)\n",
    "    # 공백이 여러개 있는 것을 하나로 줄여준다.\n",
    "    text = re.sub(' +', ' ', text)\n",
    "    return text"
   ]
  },
  {
   "cell_type": "code",
   "execution_count": 124,
   "metadata": {
    "ExecuteTime": {
     "end_time": "2020-07-25T14:45:24.634454Z",
     "start_time": "2020-07-25T14:45:24.627493Z"
    }
   },
   "outputs": [],
   "source": [
    "def remove_stopwords(text):\n",
    "    stops = ['수', '있는', '있습니다','습니다', '그', '년도', '에', '합니다', \n",
    "             '하는', '및', '제', '할', '하고', '더', '대한', '한', \n",
    "             '그리고', '월', '저는', '없는', '것입니다', '등', '일', \n",
    "             '많은', '이런', '것은', '왜', '같은', \n",
    "             '없습니다', '위해', '한다' ,'이', '드립니다',\n",
    "            '부탁드립니다','아닌가요','그런가요','바랍니다','아닙니다','감사합니다',\n",
    "            '아닌가', '아니고', '바랍니다']\n",
    "    meaningful_words = [w for w in text if not w in stops]\n",
    "    return ' '.join(meaningful_words)"
   ]
  },
  {
   "cell_type": "code",
   "execution_count": 125,
   "metadata": {
    "ExecuteTime": {
     "end_time": "2020-07-25T14:45:28.055514Z",
     "start_time": "2020-07-25T14:45:28.053278Z"
    }
   },
   "outputs": [],
   "source": [
    "from konlpy.tag import Mecab\n",
    "\n",
    "tokenizer = Mecab()"
   ]
  },
  {
   "cell_type": "code",
   "execution_count": 126,
   "metadata": {
    "ExecuteTime": {
     "end_time": "2020-07-25T14:46:27.086484Z",
     "start_time": "2020-07-25T14:45:28.379581Z"
    }
   },
   "outputs": [],
   "source": [
    "# 한글, 영문만 남기고 모두 제거\n",
    "data['content_preprocessing'] = data['content'].apply(preprocessing)\n",
    "# 토큰화\n",
    "data['content_preprocessing'] = data['content_preprocessing'].apply(tokenizer.morphs)\n",
    "# stopwords\n",
    "data['content_preprocessing'] = data['content_preprocessing'].apply(remove_stopwords)"
   ]
  },
  {
   "cell_type": "code",
   "execution_count": 128,
   "metadata": {
    "ExecuteTime": {
     "end_time": "2020-07-25T14:46:29.313940Z",
     "start_time": "2020-07-25T14:46:29.310152Z"
    }
   },
   "outputs": [
    {
     "data": {
      "text/plain": [
       "article_id\n",
       "21    스텔라 데 이지호 제안 입니다 스텔라 데 이지호 가 침몰 하 고 달째 가 되 고 있...\n",
       "26    청원 인 왕 기 운 서울 도봉구 창동 삼성 아파트 호 청원 취지 보건 복지 부 부령...\n",
       "31    안녕 하 세요 대통령 님 금연 관련 정책 들 강화 되 고 있 지만 여전히 흡연자 의...\n",
       "53    안녕 하 세요 저 는 부산 예문 여고 학년 재학 중 인 학생 입니다 다름 아니 라 ...\n",
       "56    안녕 하 세요 저 는 그냥 평범 대학 생 며 고등학생 인 자폐 급 남동생 을 둔 누...\n",
       "Name: content_preprocessing, dtype: object"
      ]
     },
     "execution_count": 128,
     "metadata": {},
     "output_type": "execute_result"
    }
   ],
   "source": [
    "data['content_preprocessing'][:5]"
   ]
  },
  {
   "cell_type": "code",
   "execution_count": 129,
   "metadata": {
    "ExecuteTime": {
     "end_time": "2020-07-25T14:46:58.792425Z",
     "start_time": "2020-07-25T14:46:58.786682Z"
    }
   },
   "outputs": [],
   "source": [
    "sentences = data['content_preprocessing'].reset_index(drop=True)"
   ]
  },
  {
   "cell_type": "markdown",
   "metadata": {},
   "source": [
    "## TF-IDF 행렬 만들기"
   ]
  },
  {
   "cell_type": "code",
   "execution_count": 130,
   "metadata": {
    "ExecuteTime": {
     "end_time": "2020-07-25T14:47:05.515593Z",
     "start_time": "2020-07-25T14:47:01.691490Z"
    }
   },
   "outputs": [
    {
     "data": {
      "text/plain": [
       "(55486, 1000)"
      ]
     },
     "execution_count": 130,
     "metadata": {},
     "output_type": "execute_result"
    }
   ],
   "source": [
    "from sklearn.feature_extraction.text import TfidfVectorizer\n",
    "\n",
    "vectorizer = TfidfVectorizer(max_features= 1000) \n",
    "X = vectorizer.fit_transform(sentences)\n",
    "X.shape"
   ]
  },
  {
   "cell_type": "markdown",
   "metadata": {},
   "source": [
    "## 토픽 모델링 with sklearn"
   ]
  },
  {
   "cell_type": "code",
   "execution_count": 131,
   "metadata": {
    "ExecuteTime": {
     "end_time": "2020-07-25T14:47:18.676255Z",
     "start_time": "2020-07-25T14:47:18.673390Z"
    }
   },
   "outputs": [],
   "source": [
    "from sklearn.decomposition import LatentDirichletAllocation\n",
    "\n",
    "lda_model=LatentDirichletAllocation(n_components=2,learning_method='online',random_state=777,max_iter=1)"
   ]
  },
  {
   "cell_type": "code",
   "execution_count": 132,
   "metadata": {
    "ExecuteTime": {
     "end_time": "2020-07-25T14:47:37.679910Z",
     "start_time": "2020-07-25T14:47:19.562923Z"
    }
   },
   "outputs": [],
   "source": [
    "lda_top=lda_model.fit_transform(X)"
   ]
  },
  {
   "cell_type": "code",
   "execution_count": 133,
   "metadata": {
    "ExecuteTime": {
     "end_time": "2020-07-25T14:47:37.683683Z",
     "start_time": "2020-07-25T14:47:37.681079Z"
    }
   },
   "outputs": [
    {
     "data": {
      "text/plain": [
       "(55486, 2)"
      ]
     },
     "execution_count": 133,
     "metadata": {},
     "output_type": "execute_result"
    }
   ],
   "source": [
    "lda_top.shape"
   ]
  },
  {
   "cell_type": "code",
   "execution_count": 134,
   "metadata": {
    "ExecuteTime": {
     "end_time": "2020-07-25T14:47:37.704026Z",
     "start_time": "2020-07-25T14:47:37.684902Z"
    }
   },
   "outputs": [
    {
     "data": {
      "text/plain": [
       "(2, 1000)"
      ]
     },
     "execution_count": 134,
     "metadata": {},
     "output_type": "execute_result"
    }
   ],
   "source": [
    "lda_model.components_.shape"
   ]
  },
  {
   "cell_type": "code",
   "execution_count": 136,
   "metadata": {
    "ExecuteTime": {
     "end_time": "2020-07-25T14:48:38.958010Z",
     "start_time": "2020-07-25T14:48:38.952014Z"
    }
   },
   "outputs": [
    {
     "name": "stdout",
     "output_type": "stream",
     "text": [
      "Topic 1: [('세요', 1541.67), ('사람', 1218.84), ('나라', 1087.49), ('아이', 948.56), ('국민', 943.68), ('제발', 806.75), ('입니다', 760.47), ('처벌', 755.23), ('우리', 747.03), ('으로', 743.51), ('생각', 724.73), ('사건', 686.93), ('경찰', 652.73), ('에서', 635.68), ('너무', 623.45)]\n",
      "Topic 2: [('연금', 2494.46), ('으로', 2175.54), ('에서', 2049.7), ('국민', 2036.93), ('미세먼지', 1605.86), ('입니다', 1344.72), ('병원', 1287.15), ('정부', 1049.87), ('는데', 1008.6), ('장애', 969.67), ('중국', 951.75), ('건강', 891.89), ('보험', 868.37), ('지만', 816.88), ('문제', 811.31)]\n"
     ]
    }
   ],
   "source": [
    "terms = vectorizer.get_feature_names() # 단어 집합. 1,000개의 단어가 저장\n",
    "\n",
    "def getTopics(components, feature_names, n=5):\n",
    "    for idx, topic in enumerate(components):\n",
    "        print(\"Topic %d:\" % (idx+1), [(feature_names[i], topic[i].round(2)) for i in topic.argsort()[:-n - 1:-1]])\n",
    "\n",
    "getTopics(lda_model.components_, terms, 15)"
   ]
  },
  {
   "cell_type": "markdown",
   "metadata": {},
   "source": [
    "- '안전/환경' : 사람, 아이, 국민, 처벌, 사건, 경찰\n",
    "- '보건복지' : 연급, 병원, 정부, 장애, 건강, 보험\n",
    "\n",
    "다소 비슷한 주제를 뽑았지만 어느 정도 잘 나누어서 토픽을 뽑은 것 같다."
   ]
  }
 ],
 "metadata": {
  "kernelspec": {
   "display_name": "Python 3",
   "language": "python",
   "name": "python3"
  },
  "language_info": {
   "codemirror_mode": {
    "name": "ipython",
    "version": 3
   },
   "file_extension": ".py",
   "mimetype": "text/x-python",
   "name": "python",
   "nbconvert_exporter": "python",
   "pygments_lexer": "ipython3",
   "version": "3.7.7"
  }
 },
 "nbformat": 4,
 "nbformat_minor": 4
}
