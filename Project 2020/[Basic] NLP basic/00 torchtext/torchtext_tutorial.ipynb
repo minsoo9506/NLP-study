{
 "metadata": {
  "language_info": {
   "codemirror_mode": {
    "name": "ipython",
    "version": 3
   },
   "file_extension": ".py",
   "mimetype": "text/x-python",
   "name": "python",
   "nbconvert_exporter": "python",
   "pygments_lexer": "ipython3",
   "version": "3.8.3-final"
  },
  "orig_nbformat": 2,
  "kernelspec": {
   "name": "python3",
   "display_name": "Python 3",
   "language": "python"
  }
 },
 "nbformat": 4,
 "nbformat_minor": 2,
 "cells": [
  {
   "cell_type": "code",
   "execution_count": 1,
   "metadata": {},
   "outputs": [],
   "source": [
    "from torchtext.data import Field, TabularDataset, BucketIterator"
   ]
  },
  {
   "source": [
    "1. specify how preprocessing should be done -> `Fields`\n",
    "2. use dataset to load the data -> `TabularDataset` (JSON,csv,tsv)\n",
    "3. Construct an iterator to do batch, padding -> `BucketIterator`"
   ],
   "cell_type": "markdown",
   "metadata": {}
  },
  {
   "cell_type": "code",
   "execution_count": 2,
   "metadata": {},
   "outputs": [
    {
     "output_type": "execute_result",
     "data": {
      "text/plain": [
       "          0                                                  1\n",
       "0  negative  주문 한 제품 잘못 보내 서 맞교환 해 준다고 해 놓 고 제품 수거 만 해 가 고 ...\n",
       "1  negative  박스 안 에 아무런 포장 없이 제품 동봉 후 배송 됨 . 아무리 플라스틱 소재 병 ...\n",
       "2  negative                                           안 밝 습니다 \n",
       "3  negative  생각 보다 가방 이 무지 크 네요 . .. 빨간 가방 인데 먼가 검 은 게 묻 어 ...\n",
       "4  negative  19 일 주문건 구매 확정 요구 이메일 은 어제 받 았 는데 , 앵글 은 오늘 도착..."
      ],
      "text/html": "<div>\n<style scoped>\n    .dataframe tbody tr th:only-of-type {\n        vertical-align: middle;\n    }\n\n    .dataframe tbody tr th {\n        vertical-align: top;\n    }\n\n    .dataframe thead th {\n        text-align: right;\n    }\n</style>\n<table border=\"1\" class=\"dataframe\">\n  <thead>\n    <tr style=\"text-align: right;\">\n      <th></th>\n      <th>0</th>\n      <th>1</th>\n    </tr>\n  </thead>\n  <tbody>\n    <tr>\n      <th>0</th>\n      <td>negative</td>\n      <td>주문 한 제품 잘못 보내 서 맞교환 해 준다고 해 놓 고 제품 수거 만 해 가 고 ...</td>\n    </tr>\n    <tr>\n      <th>1</th>\n      <td>negative</td>\n      <td>박스 안 에 아무런 포장 없이 제품 동봉 후 배송 됨 . 아무리 플라스틱 소재 병 ...</td>\n    </tr>\n    <tr>\n      <th>2</th>\n      <td>negative</td>\n      <td>안 밝 습니다</td>\n    </tr>\n    <tr>\n      <th>3</th>\n      <td>negative</td>\n      <td>생각 보다 가방 이 무지 크 네요 . .. 빨간 가방 인데 먼가 검 은 게 묻 어 ...</td>\n    </tr>\n    <tr>\n      <th>4</th>\n      <td>negative</td>\n      <td>19 일 주문건 구매 확정 요구 이메일 은 어제 받 았 는데 , 앵글 은 오늘 도착...</td>\n    </tr>\n  </tbody>\n</table>\n</div>"
     },
     "metadata": {},
     "execution_count": 2
    }
   ],
   "source": [
    "# show data\n",
    "# preprocessing is done\n",
    "import pandas as pd\n",
    "train = pd.read_csv('review_sampled_train.tsv', delimiter='\\t', header=None)\n",
    "train.head()"
   ]
  },
  {
   "cell_type": "code",
   "execution_count": 3,
   "metadata": {},
   "outputs": [],
   "source": [
    "# Field\n",
    "\n",
    "label = Field(\n",
    "    sequential=False,\n",
    "    use_vocab=True,\n",
    "    unk_token=None,\n",
    "    is_target=True\n",
    ")\n",
    "use_eos = False\n",
    "text = Field(\n",
    "    use_vocab=True,\n",
    "    batch_first=True,\n",
    "    include_lengths=False,\n",
    "    eos_token='<EOS>' if use_eos else None\n",
    ")"
   ]
  },
  {
   "cell_type": "code",
   "execution_count": 4,
   "metadata": {},
   "outputs": [],
   "source": [
    "# TabularDataset\n",
    "\n",
    "valid_ratio = 0.2\n",
    "\n",
    "train, valid = TabularDataset(\n",
    "    path='./review_sampled_train.tsv',\n",
    "    format='tsv', \n",
    "    fields=[\n",
    "        ('label', label),\n",
    "        ('text', text),\n",
    "    ],\n",
    ").split(split_ratio=(1 - valid_ratio))"
   ]
  },
  {
   "cell_type": "code",
   "execution_count": 5,
   "metadata": {},
   "outputs": [],
   "source": [
    "# build vocab\n",
    "\n",
    "max_size = 9999\n",
    "min_freq = 5\n",
    "\n",
    "label.build_vocab(train)\n",
    "text.build_vocab(train, max_size=max_size, min_freq=min_freq)"
   ]
  },
  {
   "cell_type": "code",
   "execution_count": 6,
   "metadata": {},
   "outputs": [],
   "source": [
    "# BucketIterator\n",
    "batch_size = 128\n",
    "device = -1\n",
    "shuffle = True\n",
    "\n",
    "train_loader, valid_loader = BucketIterator.splits(\n",
    "    (train, valid),\n",
    "    batch_size=batch_size,\n",
    "    device='cuda:%d' % device if device >= 0 else 'cpu',\n",
    "    shuffle=shuffle,\n",
    "    sort_key=lambda x: len(x.text),\n",
    "    sort_within_batch=True,\n",
    ")"
   ]
  },
  {
   "cell_type": "code",
   "execution_count": 10,
   "metadata": {},
   "outputs": [
    {
     "output_type": "stream",
     "name": "stdout",
     "text": [
      "torch.Size([128, 16])\ntorch.Size([128])\n"
     ]
    }
   ],
   "source": [
    "for (x_i, y_i) in train_loader:\n",
    "    print(x_i.shape)\n",
    "    print(y_i.shape)\n",
    "    break"
   ]
  },
  {
   "source": [
    "# Done!"
   ],
   "cell_type": "markdown",
   "metadata": {}
  },
  {
   "cell_type": "code",
   "execution_count": 12,
   "metadata": {},
   "outputs": [
    {
     "output_type": "stream",
     "name": "stdout",
     "text": [
      "|train|=8000\n|valid|=2000\n|vocab|=3039\n|label|=2\n"
     ]
    }
   ],
   "source": [
    "print(\"|train|=%d\" % len(train_loader.dataset))\n",
    "print(\"|valid|=%d\" % len(valid_loader.dataset))\n",
    "print(\"|vocab|=%d\" % len(text.vocab))\n",
    "print(\"|label|=%d\" % len(label.vocab))"
   ]
  },
  {
   "cell_type": "code",
   "execution_count": 17,
   "metadata": {},
   "outputs": [
    {
     "output_type": "execute_result",
     "data": {
      "text/plain": [
       "'수'"
      ]
     },
     "metadata": {},
     "execution_count": 17
    }
   ],
   "source": [
    "text.vocab.itos[100]"
   ]
  },
  {
   "cell_type": "code",
   "execution_count": 18,
   "metadata": {},
   "outputs": [
    {
     "output_type": "execute_result",
     "data": {
      "text/plain": [
       "18"
      ]
     },
     "metadata": {},
     "execution_count": 18
    }
   ],
   "source": [
    "text.vocab.stoi['배송']"
   ]
  },
  {
   "cell_type": "code",
   "execution_count": 22,
   "metadata": {},
   "outputs": [
    {
     "output_type": "stream",
     "name": "stdout",
     "text": [
      "torch.Size([128, 8])\ntorch.Size([128])\n"
     ]
    }
   ],
   "source": [
    "data = next(iter(train_loader))\n",
    "\n",
    "print(data.text.shape)\n",
    "print(data.label.shape)"
   ]
  },
  {
   "cell_type": "code",
   "execution_count": 25,
   "metadata": {},
   "outputs": [
    {
     "output_type": "execute_result",
     "data": {
      "text/plain": [
       "tensor([ 454,    7,  108,    3, 1998,    7,    0,   29])"
      ]
     },
     "metadata": {},
     "execution_count": 25
    }
   ],
   "source": [
    "data.text[0]"
   ]
  },
  {
   "cell_type": "code",
   "execution_count": 27,
   "metadata": {},
   "outputs": [
    {
     "output_type": "stream",
     "name": "stdout",
     "text": [
      "색깔 도 괜찮 고 기장 도 <unk> 합니다\n"
     ]
    }
   ],
   "source": [
    "line = []\n",
    "for x_i in data.text[0]:\n",
    "    line += [text.vocab.itos[x_i]]\n",
    "    \n",
    "print(' '.join(line))"
   ]
  }
 ]
}