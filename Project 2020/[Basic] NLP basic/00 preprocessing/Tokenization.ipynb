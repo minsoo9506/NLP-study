{
 "cells": [
  {
   "cell_type": "code",
   "execution_count": 1,
   "metadata": {
    "ExecuteTime": {
     "end_time": "2020-12-22T09:24:02.393140Z",
     "start_time": "2020-12-22T09:24:01.746164Z"
    }
   },
   "outputs": [],
   "source": [
    "import pandas as pd\n",
    "import numpy as np\n",
    "from konlpy.tag import Komoran # konlpy 중에서 그나마 빠른편"
   ]
  },
  {
   "cell_type": "code",
   "execution_count": 2,
   "metadata": {
    "ExecuteTime": {
     "end_time": "2020-12-22T09:24:05.217220Z",
     "start_time": "2020-12-22T09:24:04.648159Z"
    }
   },
   "outputs": [
    {
     "data": {
      "text/html": [
       "<div>\n",
       "<style scoped>\n",
       "    .dataframe tbody tr th:only-of-type {\n",
       "        vertical-align: middle;\n",
       "    }\n",
       "\n",
       "    .dataframe tbody tr th {\n",
       "        vertical-align: top;\n",
       "    }\n",
       "\n",
       "    .dataframe thead th {\n",
       "        text-align: right;\n",
       "    }\n",
       "</style>\n",
       "<table border=\"1\" class=\"dataframe\">\n",
       "  <thead>\n",
       "    <tr style=\"text-align: right;\">\n",
       "      <th></th>\n",
       "      <th>P/N</th>\n",
       "      <th>sentence</th>\n",
       "    </tr>\n",
       "  </thead>\n",
       "  <tbody>\n",
       "    <tr>\n",
       "      <th>0</th>\n",
       "      <td>negative</td>\n",
       "      <td>!!!!이게뭐야?진짜이게뭐야?리뷰보고구매했는데!나원참!</td>\n",
       "    </tr>\n",
       "    <tr>\n",
       "      <th>1</th>\n",
       "      <td>negative</td>\n",
       "      <td>싼 게 비지떡.200ml라고 판매하는데 내가 보기엔 절대 이거 100ml도 안된다....</td>\n",
       "    </tr>\n",
       "    <tr>\n",
       "      <th>2</th>\n",
       "      <td>negative</td>\n",
       "      <td>축 결혼이라는 리본도 없고 화환 하나에 두사람 이름만 있는 걸 보니까 화가 났습니다...</td>\n",
       "    </tr>\n",
       "    <tr>\n",
       "      <th>3</th>\n",
       "      <td>negative</td>\n",
       "      <td>가죽 검정이라는 상품명에서 누구나 알 수 있 듯 인조가죽 느낌의 재질입니다. 비닐에...</td>\n",
       "    </tr>\n",
       "    <tr>\n",
       "      <th>4</th>\n",
       "      <td>negative</td>\n",
       "      <td>루피 아니야  우리 아이 말이에요 ㅠㅠ  루피 좋아하는 우리 아이, 항상 껴안고 다...</td>\n",
       "    </tr>\n",
       "  </tbody>\n",
       "</table>\n",
       "</div>"
      ],
      "text/plain": [
       "        P/N                                           sentence\n",
       "0  negative                     !!!!이게뭐야?진짜이게뭐야?리뷰보고구매했는데!나원참!\n",
       "1  negative  싼 게 비지떡.200ml라고 판매하는데 내가 보기엔 절대 이거 100ml도 안된다....\n",
       "2  negative  축 결혼이라는 리본도 없고 화환 하나에 두사람 이름만 있는 걸 보니까 화가 났습니다...\n",
       "3  negative  가죽 검정이라는 상품명에서 누구나 알 수 있 듯 인조가죽 느낌의 재질입니다. 비닐에...\n",
       "4  negative  루피 아니야  우리 아이 말이에요 ㅠㅠ  루피 좋아하는 우리 아이, 항상 껴안고 다..."
      ]
     },
     "execution_count": 2,
     "metadata": {},
     "output_type": "execute_result"
    }
   ],
   "source": [
    "data = pd.read_csv('review_sorted_uniq.tsv', header=None, sep=\"\\t\")\n",
    "\n",
    "data.columns = ['P/N', 'sentence']\n",
    "data.head()"
   ]
  },
  {
   "cell_type": "code",
   "execution_count": 7,
   "metadata": {
    "ExecuteTime": {
     "end_time": "2020-12-22T08:29:22.465457Z",
     "start_time": "2020-12-22T08:29:22.461458Z"
    }
   },
   "outputs": [
    {
     "data": {
      "text/plain": [
       "(302029, 2)"
      ]
     },
     "execution_count": 7,
     "metadata": {},
     "output_type": "execute_result"
    }
   ],
   "source": [
    "data.shape"
   ]
  },
  {
   "cell_type": "code",
   "execution_count": 4,
   "metadata": {
    "ExecuteTime": {
     "end_time": "2020-12-22T09:24:13.533157Z",
     "start_time": "2020-12-22T09:24:11.715398Z"
    }
   },
   "outputs": [
    {
     "data": {
      "text/plain": [
       "['생각', '보다', '별루', '예', '요', '.', '.']"
      ]
     },
     "execution_count": 4,
     "metadata": {},
     "output_type": "execute_result"
    }
   ],
   "source": [
    "tokenizer = Komoran()\n",
    "\n",
    "from random import randint\n",
    "row_idx = randint(0,len(data))\n",
    "\n",
    "tokenizer.morphs(data.loc[row_idx,'sentence'])"
   ]
  },
  {
   "cell_type": "code",
   "execution_count": 5,
   "metadata": {
    "ExecuteTime": {
     "end_time": "2020-12-22T09:24:15.844540Z",
     "start_time": "2020-12-22T09:24:15.800484Z"
    }
   },
   "outputs": [
    {
     "data": {
      "text/plain": [
       "0    [!!, !!, 이, 게, 뭐, 야, ?, 진짜, 이, 게, 뭐, 야, ?, 리뷰,...\n",
       "1    [싸, ㄴ, 게, 비지떡, ., 200, ml, 라고, 판매, 하, 는데, 내, 가...\n",
       "2    [축, 결혼, 이, 라는, 리본, 도, 없, 고, 화환, 하나에, 두, 사람, 이름...\n",
       "3    [가죽, 검정, 이, 라는, 상품명, 에서, 누구, 나, 알, ㄹ, 수, 있, 듯,...\n",
       "4    [루피, 아니야, 우리, 아이, 말, 이, 에요, ㅠㅠ, 루피, 좋아하, 는, 우리...\n",
       "5            [비싸, 아, ~, ~, ~, ~, 요, 라고, 후기, 를, 남기, 네요]\n",
       "Name: sentence, dtype: object"
      ]
     },
     "execution_count": 5,
     "metadata": {},
     "output_type": "execute_result"
    }
   ],
   "source": [
    "data.loc[0:5,'sentence'].apply(tokenizer.morphs)"
   ]
  },
  {
   "cell_type": "code",
   "execution_count": 6,
   "metadata": {
    "ExecuteTime": {
     "end_time": "2020-12-22T09:24:17.370437Z",
     "start_time": "2020-12-22T09:24:17.355259Z"
    }
   },
   "outputs": [],
   "source": [
    "import re\n",
    "def preprocessing(text):\n",
    "    # 특수문자 제거\n",
    "    # 특수문자나 이모티콘 등은 때로는 의미를 갖기도 하지만 여기에서는 제거했습니다.\n",
    "    # text = re.sub('[?.,;:|\\)*~`’!^\\-_+<>@\\#$%&-=#}※]', '', text)\n",
    "    # 한글, 영문, 숫자만 남기고 모두 제거하도록 합니다.\n",
    "    # text = re.sub('[^가-힣ㄱ-ㅎㅏ-ㅣa-zA-Z0-9]', ' ', text)\n",
    "    # 한글, 영문만 남기고 모두 제거하도록 합니다.\n",
    "    # text = re.sub('[^가-힣ㄱ-ㅎㅏ-ㅣa-zA-Z]', ' ', text)\n",
    "    try:\n",
    "        text = re.sub('[^가-힣ㄱ-ㅎㅏ-ㅣa-zA-Z0-9]', ' ', text)\n",
    "    except TypeError:\n",
    "        pass\n",
    "    return text"
   ]
  },
  {
   "cell_type": "code",
   "execution_count": 12,
   "metadata": {
    "ExecuteTime": {
     "end_time": "2020-12-22T09:26:15.806264Z",
     "start_time": "2020-12-22T09:26:14.594199Z"
    }
   },
   "outputs": [
    {
     "name": "stdout",
     "output_type": "stream",
     "text": [
      "Wall time: 0 ns\n"
     ]
    }
   ],
   "source": [
    "%time\n",
    "regex_sentence = data['sentence'].apply(preprocessing)"
   ]
  },
  {
   "cell_type": "code",
   "execution_count": 11,
   "metadata": {
    "ExecuteTime": {
     "end_time": "2020-12-22T09:25:03.136158Z",
     "start_time": "2020-12-22T09:25:02.976188Z"
    },
    "scrolled": true
   },
   "outputs": [
    {
     "data": {
      "text/plain": [
       "0    [이, 게, 뭐, 야, 진짜, 이, 게, 뭐, 야, 리뷰, 보고, 구매, 하, 았,...\n",
       "1    [싸, ㄴ, 게, 비지떡, 200, ml, 라고, 판매, 하, 는데, 내, 가, 보...\n",
       "2    [축, 결혼, 이, 라는, 리본, 도, 없, 고, 화환, 하나에, 두, 사람, 이름...\n",
       "3    [가죽, 검정, 이, 라는, 상품명, 에서, 누구, 나, 알, ㄹ, 수, 있, 듯,...\n",
       "4    [루피, 아니야, 우리, 아이, 말, 이, 에요, ㅠㅠ, 루피, 좋아하, 는, 우리...\n",
       "Name: sentence, dtype: object"
      ]
     },
     "execution_count": 11,
     "metadata": {},
     "output_type": "execute_result"
    }
   ],
   "source": [
    "regex_sentence[0:5].apply(tokenizer.morphs)"
   ]
  }
 ],
 "metadata": {
  "kernelspec": {
   "display_name": "Python 3",
   "language": "python",
   "name": "python3"
  },
  "language_info": {
   "codemirror_mode": {
    "name": "ipython",
    "version": 3
   },
   "file_extension": ".py",
   "mimetype": "text/x-python",
   "name": "python",
   "nbconvert_exporter": "python",
   "pygments_lexer": "ipython3",
   "version": "3.8.3"
  }
 },
 "nbformat": 4,
 "nbformat_minor": 4
}
