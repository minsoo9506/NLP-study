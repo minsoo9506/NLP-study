{
 "cells": [
  {
   "cell_type": "markdown",
   "metadata": {},
   "source": [
    "Reference link : https://tutorials.pytorch.kr/intermediate/char_rnn_classification_tutorial.html"
   ]
  },
  {
   "cell_type": "markdown",
   "metadata": {},
   "source": [
    "# Data"
   ]
  },
  {
   "cell_type": "code",
   "execution_count": 1,
   "metadata": {
    "ExecuteTime": {
     "end_time": "2020-07-29T08:19:43.330691Z",
     "start_time": "2020-07-29T08:19:43.264328Z"
    }
   },
   "outputs": [
    {
     "name": "stdout",
     "output_type": "stream",
     "text": [
      "['data/names/Vietnamese.txt', 'data/names/French.txt', 'data/names/Arabic.txt', 'data/names/Czech.txt', 'data/names/Irish.txt', 'data/names/Korean.txt', 'data/names/Scottish.txt', 'data/names/Chinese.txt', 'data/names/Japanese.txt', 'data/names/Italian.txt', 'data/names/Polish.txt', 'data/names/German.txt', 'data/names/Greek.txt', 'data/names/Dutch.txt', 'data/names/Russian.txt', 'data/names/Portuguese.txt', 'data/names/Spanish.txt', 'data/names/English.txt']\n",
      "Slusarski\n"
     ]
    }
   ],
   "source": [
    "from __future__ import unicode_literals, print_function, division\n",
    "from io import open\n",
    "import glob\n",
    "import os\n",
    "\n",
    "def findFiles(path): return glob.glob(path)\n",
    "\n",
    "print(findFiles('data/names/*.txt'))\n",
    "\n",
    "import unicodedata\n",
    "import string\n",
    "\n",
    "all_letters = string.ascii_letters + \" .,;'\"\n",
    "n_letters = len(all_letters)\n",
    "\n",
    "# 유니코드 문자열을 ASCII로 변환, https://stackoverflow.com/a/518232/2809427\n",
    "def unicodeToAscii(s):\n",
    "    return ''.join(\n",
    "        c for c in unicodedata.normalize('NFD', s)\n",
    "        if unicodedata.category(c) != 'Mn'\n",
    "        and c in all_letters\n",
    "    )\n",
    "\n",
    "print(unicodeToAscii('Ślusàrski'))\n",
    "\n",
    "# 각 언어의 이름 목록인 category_lines 사전 생성\n",
    "category_lines = {}\n",
    "all_categories = []\n",
    "\n",
    "# 파일을 읽고 줄 단위로 분리\n",
    "def readLines(filename):\n",
    "    lines = open(filename, encoding='utf-8').read().strip().split('\\n')\n",
    "    return [unicodeToAscii(line) for line in lines]\n",
    "\n",
    "for filename in findFiles('data/names/*.txt'):\n",
    "    category = os.path.splitext(os.path.basename(filename))[0]\n",
    "    all_categories.append(category)\n",
    "    lines = readLines(filename)\n",
    "    category_lines[category] = lines\n",
    "\n",
    "n_categories = len(all_categories)"
   ]
  },
  {
   "cell_type": "code",
   "execution_count": 14,
   "metadata": {
    "ExecuteTime": {
     "end_time": "2020-07-29T08:47:46.715771Z",
     "start_time": "2020-07-29T08:47:46.712413Z"
    }
   },
   "outputs": [
    {
     "data": {
      "text/plain": [
       "['Vietnamese',\n",
       " 'French',\n",
       " 'Arabic',\n",
       " 'Czech',\n",
       " 'Irish',\n",
       " 'Korean',\n",
       " 'Scottish',\n",
       " 'Chinese',\n",
       " 'Japanese',\n",
       " 'Italian',\n",
       " 'Polish',\n",
       " 'German',\n",
       " 'Greek',\n",
       " 'Dutch',\n",
       " 'Russian',\n",
       " 'Portuguese',\n",
       " 'Spanish',\n",
       " 'English']"
      ]
     },
     "execution_count": 14,
     "metadata": {},
     "output_type": "execute_result"
    }
   ],
   "source": [
    "all_categories"
   ]
  },
  {
   "cell_type": "code",
   "execution_count": 16,
   "metadata": {
    "ExecuteTime": {
     "end_time": "2020-07-29T08:48:10.542355Z",
     "start_time": "2020-07-29T08:48:10.536437Z"
    }
   },
   "outputs": [
    {
     "data": {
      "text/plain": [
       "['Ahn', 'Baik', 'Bang']"
      ]
     },
     "execution_count": 16,
     "metadata": {},
     "output_type": "execute_result"
    }
   ],
   "source": [
    "category_lines['Korean'][:3]"
   ]
  },
  {
   "cell_type": "markdown",
   "metadata": {},
   "source": [
    "## One-hot\n",
    "- `line_length, 1, n_letters` (batch size=1)"
   ]
  },
  {
   "cell_type": "code",
   "execution_count": 7,
   "metadata": {
    "ExecuteTime": {
     "end_time": "2020-07-29T08:28:46.844362Z",
     "start_time": "2020-07-29T08:28:46.841648Z"
    }
   },
   "outputs": [
    {
     "data": {
      "text/plain": [
       "\"abcdefghijklmnopqrstuvwxyzABCDEFGHIJKLMNOPQRSTUVWXYZ .,;'\""
      ]
     },
     "execution_count": 7,
     "metadata": {},
     "output_type": "execute_result"
    }
   ],
   "source": [
    "all_letters"
   ]
  },
  {
   "cell_type": "code",
   "execution_count": 8,
   "metadata": {
    "ExecuteTime": {
     "end_time": "2020-07-29T08:29:00.988063Z",
     "start_time": "2020-07-29T08:29:00.985404Z"
    }
   },
   "outputs": [
    {
     "data": {
      "text/plain": [
       "57"
      ]
     },
     "execution_count": 8,
     "metadata": {},
     "output_type": "execute_result"
    }
   ],
   "source": [
    "n_letters"
   ]
  },
  {
   "cell_type": "code",
   "execution_count": 9,
   "metadata": {
    "ExecuteTime": {
     "end_time": "2020-07-29T08:41:32.606420Z",
     "start_time": "2020-07-29T08:41:32.602636Z"
    }
   },
   "outputs": [],
   "source": [
    "import torch\n",
    "\n",
    "def letterToIndex(letter):\n",
    "    return all_letters.find(letter)\n",
    "\n",
    "def letterToTensor(letter):\n",
    "    tensor = torch.zeros(1, n_letters)\n",
    "    tensor[0][letterToIndex(letter)] = 1\n",
    "    return tensor\n",
    "\n",
    "def lineToTensor(line):\n",
    "    tensor = torch.zeros(len(line), 1, n_letters)\n",
    "    for lineIdx, letter in enumerate(line):\n",
    "        tensor[lineIdx][0][letterToIndex(letter)] = 1\n",
    "    return tensor"
   ]
  },
  {
   "cell_type": "code",
   "execution_count": 10,
   "metadata": {
    "ExecuteTime": {
     "end_time": "2020-07-29T08:41:43.553228Z",
     "start_time": "2020-07-29T08:41:43.539254Z"
    }
   },
   "outputs": [
    {
     "data": {
      "text/plain": [
       "tensor([[0., 0., 0., 0., 0., 0., 0., 0., 0., 0., 0., 0., 0., 0., 0., 0., 0., 0.,\n",
       "         0., 0., 0., 0., 0., 0., 0., 0., 0., 0., 0., 0., 0., 0., 0., 0., 0., 0.,\n",
       "         0., 0., 0., 0., 0., 0., 0., 0., 1., 0., 0., 0., 0., 0., 0., 0., 0., 0.,\n",
       "         0., 0., 0.]])"
      ]
     },
     "execution_count": 10,
     "metadata": {},
     "output_type": "execute_result"
    }
   ],
   "source": [
    "letterToTensor('S')"
   ]
  },
  {
   "cell_type": "code",
   "execution_count": 13,
   "metadata": {
    "ExecuteTime": {
     "end_time": "2020-07-29T08:45:05.044190Z",
     "start_time": "2020-07-29T08:45:05.040387Z"
    }
   },
   "outputs": [
    {
     "name": "stdout",
     "output_type": "stream",
     "text": [
      "torch.Size([4, 1, 57])\n",
      "tensor([[[0., 0., 0., 0., 0., 0., 0., 0., 0., 0., 0., 0., 0., 0., 0., 0., 0.,\n",
      "          0., 0., 0., 0., 0., 0., 0., 0., 0., 0., 0., 0., 0., 0., 0., 0., 0.,\n",
      "          0., 0., 0., 0., 0., 0., 0., 0., 0., 0., 1., 0., 0., 0., 0., 0., 0.,\n",
      "          0., 0., 0., 0., 0., 0.]],\n",
      "\n",
      "        [[0., 0., 0., 0., 0., 0., 0., 0., 0., 0., 0., 0., 0., 0., 1., 0., 0.,\n",
      "          0., 0., 0., 0., 0., 0., 0., 0., 0., 0., 0., 0., 0., 0., 0., 0., 0.,\n",
      "          0., 0., 0., 0., 0., 0., 0., 0., 0., 0., 0., 0., 0., 0., 0., 0., 0.,\n",
      "          0., 0., 0., 0., 0., 0.]],\n",
      "\n",
      "        [[0., 0., 0., 0., 0., 0., 0., 0., 0., 0., 0., 0., 0., 1., 0., 0., 0.,\n",
      "          0., 0., 0., 0., 0., 0., 0., 0., 0., 0., 0., 0., 0., 0., 0., 0., 0.,\n",
      "          0., 0., 0., 0., 0., 0., 0., 0., 0., 0., 0., 0., 0., 0., 0., 0., 0.,\n",
      "          0., 0., 0., 0., 0., 0.]],\n",
      "\n",
      "        [[0., 0., 0., 0., 0., 0., 1., 0., 0., 0., 0., 0., 0., 0., 0., 0., 0.,\n",
      "          0., 0., 0., 0., 0., 0., 0., 0., 0., 0., 0., 0., 0., 0., 0., 0., 0.,\n",
      "          0., 0., 0., 0., 0., 0., 0., 0., 0., 0., 0., 0., 0., 0., 0., 0., 0.,\n",
      "          0., 0., 0., 0., 0., 0.]]])\n"
     ]
    }
   ],
   "source": [
    "print(lineToTensor('Song').size())\n",
    "print(lineToTensor('Song'))"
   ]
  },
  {
   "cell_type": "markdown",
   "metadata": {},
   "source": [
    "# Model"
   ]
  },
  {
   "cell_type": "code",
   "execution_count": 46,
   "metadata": {
    "ExecuteTime": {
     "end_time": "2020-07-29T09:47:33.445540Z",
     "start_time": "2020-07-29T09:47:33.439798Z"
    }
   },
   "outputs": [],
   "source": [
    "import torch.nn as nn\n",
    "\n",
    "class RNN(nn.Module):\n",
    "    def __init__(self, inputSize, hiddenSize, outputSize):\n",
    "        super(RNN, self).__init__()\n",
    "        \n",
    "        self.hiddenSize = hiddenSize\n",
    "        \n",
    "        self.i2h = nn.Linear(inputSize + hiddenSize, hiddenSize)\n",
    "        self.i2o = nn.Linear(inputSize + hiddenSize, outputSize)\n",
    "        self.softmax = nn.LogSoftmax(dim=1)\n",
    "        \n",
    "    def forward(self, x, hidden):\n",
    "        combined = torch.cat((x, hidden), 1)\n",
    "        hidden = self.i2h(combined)\n",
    "        output = self.i2o(combined)\n",
    "        output = self.softmax(output)\n",
    "        return output, hidden\n",
    "    \n",
    "    def initHidden(self):\n",
    "        return torch.zeros(1, self.hiddenSize)\n",
    "\n",
    "numHidden = 128\n",
    "rnn = RNN(n_letters, numHidden, n_categories)"
   ]
  },
  {
   "cell_type": "code",
   "execution_count": 47,
   "metadata": {
    "ExecuteTime": {
     "end_time": "2020-07-29T09:47:33.667224Z",
     "start_time": "2020-07-29T09:47:33.654317Z"
    }
   },
   "outputs": [
    {
     "name": "stdout",
     "output_type": "stream",
     "text": [
      "tensor([[-2.8069, -2.8877, -2.9894, -2.9091, -2.9953, -2.8378, -2.8872, -2.8423,\n",
      "         -2.7809, -2.9080, -2.9500, -2.8481, -2.8652, -3.0031, -2.9674, -2.9258,\n",
      "         -2.8063, -2.8557]], grad_fn=<LogSoftmaxBackward>)\n"
     ]
    }
   ],
   "source": [
    "x = lineToTensor('Song')\n",
    "hidden = torch.zeros(1, numHidden)\n",
    "\n",
    "tmpOutput, next_hidden = rnn(x[0], hidden)\n",
    "print(tmpOutput)"
   ]
  },
  {
   "cell_type": "markdown",
   "metadata": {},
   "source": [
    "# Train"
   ]
  },
  {
   "cell_type": "code",
   "execution_count": 48,
   "metadata": {
    "ExecuteTime": {
     "end_time": "2020-07-29T09:47:35.531959Z",
     "start_time": "2020-07-29T09:47:35.529427Z"
    }
   },
   "outputs": [],
   "source": [
    "def categoryFromOutput(output):\n",
    "    topNum, topIndex = output.topk(1) # 텐서의 가장 큰 값, 주소\n",
    "    categoryIndex = topIndex[0].item()  # 텐서에서 정수 값으로 변경\n",
    "    return all_categories[categoryIndex], categoryIndex"
   ]
  },
  {
   "cell_type": "code",
   "execution_count": 49,
   "metadata": {
    "ExecuteTime": {
     "end_time": "2020-07-29T09:47:35.836133Z",
     "start_time": "2020-07-29T09:47:35.828485Z"
    }
   },
   "outputs": [
    {
     "name": "stdout",
     "output_type": "stream",
     "text": [
      "('Japanese', 8)\n"
     ]
    }
   ],
   "source": [
    "print(categoryFromOutput(tmpOutput))"
   ]
  },
  {
   "cell_type": "code",
   "execution_count": 50,
   "metadata": {
    "ExecuteTime": {
     "end_time": "2020-07-29T09:47:37.173984Z",
     "start_time": "2020-07-29T09:47:37.161451Z"
    }
   },
   "outputs": [],
   "source": [
    "import random\n",
    "\n",
    "def randomChoice(lst):\n",
    "    return lst[random.randint(0, len(lst) - 1)]\n",
    "\n",
    "def randomTrainingExample():\n",
    "    category = randomChoice(all_categories)\n",
    "    line = randomChoice(category_lines[category])\n",
    "    categoryTensor = torch.tensor([all_categories.index(category)], dtype=torch.long)\n",
    "    lineTensor = lineToTensor(line)\n",
    "    return category, line, categoryTensor, lineTensor"
   ]
  },
  {
   "cell_type": "code",
   "execution_count": 51,
   "metadata": {
    "ExecuteTime": {
     "end_time": "2020-07-29T09:47:37.619304Z",
     "start_time": "2020-07-29T09:47:37.604493Z"
    }
   },
   "outputs": [
    {
     "name": "stdout",
     "output_type": "stream",
     "text": [
      "category = Chinese , line = Chew\n",
      "category = Polish , line = Wojewodzki\n",
      "category = English , line = Wintersgill\n",
      "category = English , line = Warren\n",
      "category = Japanese , line = Arita\n"
     ]
    }
   ],
   "source": [
    "for i in range(5):\n",
    "    category, line, category_tensor, line_tensor = randomTrainingExample()\n",
    "    print(f'category = {category} , line = {line}')"
   ]
  },
  {
   "cell_type": "code",
   "execution_count": 52,
   "metadata": {
    "ExecuteTime": {
     "end_time": "2020-07-29T09:47:40.088059Z",
     "start_time": "2020-07-29T09:47:40.086038Z"
    }
   },
   "outputs": [],
   "source": [
    "criterion = nn.NLLLoss()\n",
    "learning_rate = 0.005"
   ]
  },
  {
   "cell_type": "code",
   "execution_count": 55,
   "metadata": {
    "ExecuteTime": {
     "end_time": "2020-07-29T09:48:12.249499Z",
     "start_time": "2020-07-29T09:48:12.245523Z"
    }
   },
   "outputs": [],
   "source": [
    "def train(categoryTensor, lineTensor):\n",
    "    hidden = rnn.initHidden()\n",
    "\n",
    "    rnn.zero_grad()\n",
    "\n",
    "    for i in range(lineTensor.size()[0]):\n",
    "        output, hidden = rnn(lineTensor[i], hidden)\n",
    "\n",
    "    loss = criterion(output, categoryTensor)\n",
    "    loss.backward()\n",
    "\n",
    "    # 매개변수의 경사도에 학습률을 곱해서 그 매개변수의 값에 더합니다.\n",
    "    for p in rnn.parameters():\n",
    "        p.data.add_(p.grad.data, alpha=-learning_rate)\n",
    "\n",
    "    return output, loss.item()"
   ]
  },
  {
   "cell_type": "code",
   "execution_count": 56,
   "metadata": {
    "ExecuteTime": {
     "end_time": "2020-07-29T10:05:47.171282Z",
     "start_time": "2020-07-29T09:48:13.895227Z"
    }
   },
   "outputs": [
    {
     "name": "stdout",
     "output_type": "stream",
     "text": [
      "Iter : 5000 / 100000, 2.975618839263916 Malouf Japanese X (Arabic)\n",
      "Iter : 10000 / 100000, 2.0484871864318848 Cassidy Japanese X (Irish)\n",
      "Iter : 15000 / 100000, 2.3271877765655518 Fleming French X (Scottish)\n",
      "Iter : 20000 / 100000, 0.36742299795150757 Najjar Arabic O\n",
      "Iter : 25000 / 100000, 0.8289016485214233 Xing Chinese O\n",
      "Iter : 30000 / 100000, 3.0701863765716553 Klerks Polish X (Dutch)\n",
      "Iter : 35000 / 100000, 1.386513352394104 Navrkal Czech O\n",
      "Iter : 40000 / 100000, 1.4230917692184448 Trujillo Italian X (Spanish)\n",
      "Iter : 45000 / 100000, 0.8646233081817627 Snijder Dutch O\n",
      "Iter : 50000 / 100000, 0.7349125742912292 Thi Vietnamese O\n",
      "Iter : 55000 / 100000, 2.1452906131744385 Pak Vietnamese X (Korean)\n",
      "Iter : 60000 / 100000, 3.3104443550109863 Dael Vietnamese X (Dutch)\n",
      "Iter : 65000 / 100000, 2.080207347869873 Saionji Italian X (Japanese)\n",
      "Iter : 70000 / 100000, 0.2287452667951584 Gomolka Polish O\n",
      "Iter : 75000 / 100000, 1.1486197710037231 Maroun Arabic O\n",
      "Iter : 80000 / 100000, 1.3846124410629272 Harman German O\n",
      "Iter : 85000 / 100000, 1.1084926128387451 Saga Japanese O\n",
      "Iter : 90000 / 100000, 0.4477904736995697 Viteri Italian O\n",
      "Iter : 95000 / 100000, 0.1318366676568985 Luong Vietnamese O\n",
      "Iter : 100000 / 100000, 1.7567609548568726 Marek Czech X (Polish)\n"
     ]
    }
   ],
   "source": [
    "nIter = 100000\n",
    "currentLoss = 0\n",
    "allLoss = []\n",
    "printEvery = 5000\n",
    "plotEvery = 1000\n",
    "\n",
    "for iter_ in range(1, nIter + 1):\n",
    "    category, line, categoryTensor, lineTensor = randomTrainingExample()\n",
    "    output, loss = train(categoryTensor, lineTensor)\n",
    "    currentLoss += loss\n",
    "    \n",
    "    if iter_ % printEvery == 0:\n",
    "        guess, guessI = categoryFromOutput(output)\n",
    "        correct = 'O' if guess == category else 'X (%s)' %category\n",
    "        print(f'Iter : {iter_} / {nIter}, {loss} {line} {guess} {correct}')\n",
    "        \n",
    "    # 현재 평균 손실을 전체 손실 리스트에 추가\n",
    "    if iter_ % plotEvery == 0:\n",
    "        allLoss.append(currentLoss / plotEvery)\n",
    "        currentLoss = 0"
   ]
  },
  {
   "cell_type": "code",
   "execution_count": 58,
   "metadata": {
    "ExecuteTime": {
     "end_time": "2020-07-29T10:05:47.467228Z",
     "start_time": "2020-07-29T10:05:47.457506Z"
    }
   },
   "outputs": [
    {
     "name": "stderr",
     "output_type": "stream",
     "text": [
      "/opt/conda/lib/python3.7/site-packages/torch/serialization.py:402: UserWarning: Couldn't retrieve source code for container of type RNN. It won't be checked for correctness upon loading.\n",
      "  \"type \" + obj.__name__ + \". It won't be checked \"\n"
     ]
    }
   ],
   "source": [
    "torch.save(rnn, 'char-rnn-classification.pt')"
   ]
  },
  {
   "cell_type": "code",
   "execution_count": 57,
   "metadata": {
    "ExecuteTime": {
     "end_time": "2020-07-29T10:05:47.456216Z",
     "start_time": "2020-07-29T10:05:47.172453Z"
    }
   },
   "outputs": [
    {
     "data": {
      "text/plain": [
       "[<matplotlib.lines.Line2D at 0x7fdeec1a29d0>]"
      ]
     },
     "execution_count": 57,
     "metadata": {},
     "output_type": "execute_result"
    },
    {
     "data": {
      "image/png": "[encoded data removed]",
      "text/plain": [
       "<Figure size 432x288 with 1 Axes>"
      ]
     },
     "metadata": {
      "needs_background": "light"
     },
     "output_type": "display_data"
    }
   ],
   "source": [
    "import matplotlib.pyplot as plt\n",
    "import matplotlib.ticker as ticker\n",
    "\n",
    "plt.figure()\n",
    "plt.plot(allLoss)"
   ]
  },
  {
   "cell_type": "code",
   "execution_count": 60,
   "metadata": {
    "ExecuteTime": {
     "end_time": "2020-07-29T10:40:41.629551Z",
     "start_time": "2020-07-29T10:40:41.620406Z"
    }
   },
   "outputs": [
    {
     "name": "stdout",
     "output_type": "stream",
     "text": [
      "\n",
      "> Song\n",
      "(-0.51) Korean\n",
      "(-1.27) Chinese\n",
      "(-3.13) Vietnamese\n",
      "\n",
      "> Jackson\n",
      "(-0.70) Scottish\n",
      "(-1.09) English\n",
      "(-3.11) Russian\n",
      "\n",
      "> Satoshi\n",
      "(-1.25) Japanese\n",
      "(-1.83) Arabic\n",
      "(-1.86) Italian\n"
     ]
    }
   ],
   "source": [
    "def evaluate(lineTensor):\n",
    "    hidden = rnn.initHidden()\n",
    "\n",
    "    for i in range(lineTensor.size()[0]):\n",
    "        output, hidden = rnn(lineTensor[i], hidden)\n",
    "\n",
    "    return output\n",
    "\n",
    "def predict(inputLine, numPredictions=3):\n",
    "    print('\\n> %s' % inputLine)\n",
    "    with torch.no_grad():\n",
    "        output = evaluate(lineToTensor(inputLine))\n",
    "\n",
    "        topv, topi = output.topk(numPredictions, 1, True)\n",
    "        predictions = []\n",
    "\n",
    "        for i in range(numPredictions):\n",
    "            value = topv[0][i].item()\n",
    "            category_index = topi[0][i].item()\n",
    "            print('(%.2f) %s' % (value, all_categories[category_index]))\n",
    "            predictions.append([value, all_categories[category_index]])\n",
    "\n",
    "predict('Song')\n",
    "predict('Jackson')\n",
    "predict('Satoshi')"
   ]
  }
 ],
 "metadata": {
  "kernelspec": {
   "display_name": "Python 3",
   "language": "python",
   "name": "python3"
  },
  "language_info": {
   "codemirror_mode": {
    "name": "ipython",
    "version": 3
   },
   "file_extension": ".py",
   "mimetype": "text/x-python",
   "name": "python",
   "nbconvert_exporter": "python",
   "pygments_lexer": "ipython3",
   "version": "3.7.7"
  }
 },
 "nbformat": 4,
 "nbformat_minor": 4
}
