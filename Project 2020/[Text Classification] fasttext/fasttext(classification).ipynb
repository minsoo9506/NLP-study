{
  "nbformat": 4,
  "nbformat_minor": 0,
  "metadata": {
    "colab": {
      "name": "fasttext(classification).ipynb",
      "provenance": [],
      "collapsed_sections": []
    },
    "kernelspec": {
      "name": "python3",
      "display_name": "Python 3"
    }
  },
  "cells": [
    {
      "cell_type": "code",
      "metadata": {
        "id": "8mBhK8NImq_R"
      },
      "source": [
        "!wget https://github.com/facebookresearch/fastText/archive/v0.9.2.zip\r\n",
        "!unzip v0.9.2.zip\r\n",
        "%cd fastText-0.9.2\r\n",
        "!make"
      ],
      "execution_count": null,
      "outputs": []
    },
    {
      "cell_type": "code",
      "metadata": {
        "colab": {
          "base_uri": "https://localhost:8080/"
        },
        "id": "bTDH86cbuiXe",
        "outputId": "f4999a59-de79-4d46-fed4-f46ca2a7283e"
      },
      "source": [
        "# 현재위치\r\n",
        "!pwd"
      ],
      "execution_count": 6,
      "outputs": [
        {
          "output_type": "stream",
          "text": [
            "/content/fastText-0.2.0/fastText-0.9.2\n"
          ],
          "name": "stdout"
        }
      ]
    },
    {
      "cell_type": "code",
      "metadata": {
        "colab": {
          "base_uri": "https://localhost:8080/",
          "height": 195
        },
        "id": "l0p-0jY03YLG",
        "outputId": "b6cf0230-c949-4d8b-cb4d-18bbc230f212"
      },
      "source": [
        "import pandas as pd\r\n",
        "train_df = pd.read_csv('../train_df.txt', delimiter='\\t', header=None)\r\n",
        "train_df.head()\r\n",
        "# 아래처럼 target에 '__label__' 이라는 prefix를 붙여주면 된다.\r\n",
        "# 간단한 전처리후의 상태 (형태소 tokenization)\r\n",
        "# test_df.txt는 target이 없는 상태"
      ],
      "execution_count": 13,
      "outputs": [
        {
          "output_type": "execute_result",
          "data": {
            "text/html": [
              "<div>\n",
              "<style scoped>\n",
              "    .dataframe tbody tr th:only-of-type {\n",
              "        vertical-align: middle;\n",
              "    }\n",
              "\n",
              "    .dataframe tbody tr th {\n",
              "        vertical-align: top;\n",
              "    }\n",
              "\n",
              "    .dataframe thead th {\n",
              "        text-align: right;\n",
              "    }\n",
              "</style>\n",
              "<table border=\"1\" class=\"dataframe\">\n",
              "  <thead>\n",
              "    <tr style=\"text-align: right;\">\n",
              "      <th></th>\n",
              "      <th>0</th>\n",
              "      <th>1</th>\n",
              "    </tr>\n",
              "  </thead>\n",
              "  <tbody>\n",
              "    <tr>\n",
              "      <th>0</th>\n",
              "      <td>[ 이데일리 MARKETPOINT ] 15 : 32 현재 코스닥 기관 678 억 순 매도</td>\n",
              "      <td>__label__0</td>\n",
              "    </tr>\n",
              "    <tr>\n",
              "      <th>1</th>\n",
              "      <td>\" 실적 기반 \" 저가 에 매 집 하 아야 하 ㄹ 8월 급등 유망주 TOP 5 전격 공개</td>\n",
              "      <td>__label__1</td>\n",
              "    </tr>\n",
              "    <tr>\n",
              "      <th>2</th>\n",
              "      <td>하이스 탁 론 , 선취 수수료 없 는 월 0 . 4 % 최저 금리 상품 출시</td>\n",
              "      <td>__label__1</td>\n",
              "    </tr>\n",
              "    <tr>\n",
              "      <th>3</th>\n",
              "      <td>종합 경제 정보 미디어 이데일리 - 무단 전재 &amp; 재 배포 금지</td>\n",
              "      <td>__label__0</td>\n",
              "    </tr>\n",
              "    <tr>\n",
              "      <th>4</th>\n",
              "      <td>전국 적 이 ㄴ 소비 붐 조성 에 기여 하 ㄹ 예정</td>\n",
              "      <td>__label__0</td>\n",
              "    </tr>\n",
              "  </tbody>\n",
              "</table>\n",
              "</div>"
            ],
            "text/plain": [
              "                                                   0           1\n",
              "0  [ 이데일리 MARKETPOINT ] 15 : 32 현재 코스닥 기관 678 억 순 매도  __label__0\n",
              "1  \" 실적 기반 \" 저가 에 매 집 하 아야 하 ㄹ 8월 급등 유망주 TOP 5 전격 공개  __label__1\n",
              "2         하이스 탁 론 , 선취 수수료 없 는 월 0 . 4 % 최저 금리 상품 출시  __label__1\n",
              "3                종합 경제 정보 미디어 이데일리 - 무단 전재 & 재 배포 금지  __label__0\n",
              "4                       전국 적 이 ㄴ 소비 붐 조성 에 기여 하 ㄹ 예정  __label__0"
            ]
          },
          "metadata": {
            "tags": []
          },
          "execution_count": 13
        }
      ]
    },
    {
      "cell_type": "code",
      "metadata": {
        "colab": {
          "base_uri": "https://localhost:8080/"
        },
        "id": "8NnmItMSnT_N",
        "outputId": "70752a3d-5e02-47f3-f39f-ce3724eeb9c8"
      },
      "source": [
        "# train\r\n",
        "# 1초정도 걸리는 것 같습니다 so fast...!\r\n",
        "!./fasttext supervised -input ../train_df.txt -output model -dim 2"
      ],
      "execution_count": 8,
      "outputs": [
        {
          "output_type": "stream",
          "text": [
            "\rRead 1M words\rRead 1M words\n",
            "Number of words:  36629\n",
            "Number of labels: 2\n",
            "Progress: 100.0% words/sec/thread:  789544 lr:  0.000000 avg.loss:  0.076844 ETA:   0h 0m 0s\n"
          ],
          "name": "stdout"
        }
      ]
    },
    {
      "cell_type": "code",
      "metadata": {
        "id": "aPH2FI0RnUB3"
      },
      "source": [
        "# predict (by model.bin)\r\n",
        "# result save(> result.txt)\r\n",
        "!./fasttext predict model.bin ../test_df.txt > result.txt"
      ],
      "execution_count": 10,
      "outputs": []
    },
    {
      "cell_type": "code",
      "metadata": {
        "colab": {
          "base_uri": "https://localhost:8080/",
          "height": 343
        },
        "id": "9w7rP5zL50jX",
        "outputId": "1902f27f-8a8d-4d07-90ae-4cac2d156ea4"
      },
      "source": [
        "# 이런 식으로 결과가 나옵니다.\r\n",
        "result = pd.read_csv('result.txt', delimiter='\\t', header=None)\r\n",
        "result.head(10)"
      ],
      "execution_count": 16,
      "outputs": [
        {
          "output_type": "execute_result",
          "data": {
            "text/html": [
              "<div>\n",
              "<style scoped>\n",
              "    .dataframe tbody tr th:only-of-type {\n",
              "        vertical-align: middle;\n",
              "    }\n",
              "\n",
              "    .dataframe tbody tr th {\n",
              "        vertical-align: top;\n",
              "    }\n",
              "\n",
              "    .dataframe thead th {\n",
              "        text-align: right;\n",
              "    }\n",
              "</style>\n",
              "<table border=\"1\" class=\"dataframe\">\n",
              "  <thead>\n",
              "    <tr style=\"text-align: right;\">\n",
              "      <th></th>\n",
              "      <th>0</th>\n",
              "    </tr>\n",
              "  </thead>\n",
              "  <tbody>\n",
              "    <tr>\n",
              "      <th>0</th>\n",
              "      <td>__label__0</td>\n",
              "    </tr>\n",
              "    <tr>\n",
              "      <th>1</th>\n",
              "      <td>__label__0</td>\n",
              "    </tr>\n",
              "    <tr>\n",
              "      <th>2</th>\n",
              "      <td>__label__0</td>\n",
              "    </tr>\n",
              "    <tr>\n",
              "      <th>3</th>\n",
              "      <td>__label__0</td>\n",
              "    </tr>\n",
              "    <tr>\n",
              "      <th>4</th>\n",
              "      <td>__label__0</td>\n",
              "    </tr>\n",
              "    <tr>\n",
              "      <th>5</th>\n",
              "      <td>__label__0</td>\n",
              "    </tr>\n",
              "    <tr>\n",
              "      <th>6</th>\n",
              "      <td>__label__0</td>\n",
              "    </tr>\n",
              "    <tr>\n",
              "      <th>7</th>\n",
              "      <td>__label__0</td>\n",
              "    </tr>\n",
              "    <tr>\n",
              "      <th>8</th>\n",
              "      <td>__label__0</td>\n",
              "    </tr>\n",
              "    <tr>\n",
              "      <th>9</th>\n",
              "      <td>__label__0</td>\n",
              "    </tr>\n",
              "  </tbody>\n",
              "</table>\n",
              "</div>"
            ],
            "text/plain": [
              "            0\n",
              "0  __label__0\n",
              "1  __label__0\n",
              "2  __label__0\n",
              "3  __label__0\n",
              "4  __label__0\n",
              "5  __label__0\n",
              "6  __label__0\n",
              "7  __label__0\n",
              "8  __label__0\n",
              "9  __label__0"
            ]
          },
          "metadata": {
            "tags": []
          },
          "execution_count": 16
        }
      ]
    }
  ]
}