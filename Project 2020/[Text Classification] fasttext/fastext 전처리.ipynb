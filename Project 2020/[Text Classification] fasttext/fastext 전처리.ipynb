{
 "cells": [
  {
   "cell_type": "markdown",
   "metadata": {},
   "source": [
    "# fasttext\n",
    "https://github.com/facebookresearch/fastText/#text-classification"
   ]
  },
  {
   "cell_type": "code",
   "execution_count": 1,
   "metadata": {
    "ExecuteTime": {
     "end_time": "2020-12-24T06:49:19.214761Z",
     "start_time": "2020-12-24T06:49:18.055766Z"
    }
   },
   "outputs": [],
   "source": [
    "import numpy as np\n",
    "import pandas as pd"
   ]
  },
  {
   "cell_type": "code",
   "execution_count": 19,
   "metadata": {
    "ExecuteTime": {
     "end_time": "2020-12-24T07:47:56.072358Z",
     "start_time": "2020-12-24T07:47:55.489685Z"
    }
   },
   "outputs": [],
   "source": [
    "train = pd.read_csv('../data/news_train.csv')\n",
    "test = pd.read_csv('../data/news_test.csv')\n",
    "sub = pd.read_csv('../data/sample_submission.csv')"
   ]
  },
  {
   "cell_type": "code",
   "execution_count": 29,
   "metadata": {
    "ExecuteTime": {
     "end_time": "2020-12-24T07:52:29.026009Z",
     "start_time": "2020-12-24T07:52:29.011536Z"
    }
   },
   "outputs": [
    {
     "data": {
      "text/html": [
       "<div>\n",
       "<style scoped>\n",
       "    .dataframe tbody tr th:only-of-type {\n",
       "        vertical-align: middle;\n",
       "    }\n",
       "\n",
       "    .dataframe tbody tr th {\n",
       "        vertical-align: top;\n",
       "    }\n",
       "\n",
       "    .dataframe thead th {\n",
       "        text-align: right;\n",
       "    }\n",
       "</style>\n",
       "<table border=\"1\" class=\"dataframe\">\n",
       "  <thead>\n",
       "    <tr style=\"text-align: right;\">\n",
       "      <th></th>\n",
       "      <th>n_id</th>\n",
       "      <th>date</th>\n",
       "      <th>title</th>\n",
       "      <th>content</th>\n",
       "      <th>ord</th>\n",
       "      <th>info</th>\n",
       "    </tr>\n",
       "  </thead>\n",
       "  <tbody>\n",
       "    <tr>\n",
       "      <th>0</th>\n",
       "      <td>NEWS02580</td>\n",
       "      <td>20200605</td>\n",
       "      <td>[마감]코스닥 기관 678억 순매도</td>\n",
       "      <td>[이데일리 MARKETPOINT]15:32 현재 코스닥 기관 678억 순매도</td>\n",
       "      <td>1</td>\n",
       "      <td>0</td>\n",
       "    </tr>\n",
       "    <tr>\n",
       "      <th>1</th>\n",
       "      <td>NEWS02580</td>\n",
       "      <td>20200605</td>\n",
       "      <td>[마감]코스닥 기관 678억 순매도</td>\n",
       "      <td>\"실적기반\" 저가에 매집해야 할 8월 급등유망주 TOP 5 전격공개</td>\n",
       "      <td>2</td>\n",
       "      <td>1</td>\n",
       "    </tr>\n",
       "    <tr>\n",
       "      <th>2</th>\n",
       "      <td>NEWS02580</td>\n",
       "      <td>20200605</td>\n",
       "      <td>[마감]코스닥 기관 678억 순매도</td>\n",
       "      <td>하이스탁론, 선취수수료 없는 월 0.4% 최저금리 상품 출시</td>\n",
       "      <td>3</td>\n",
       "      <td>1</td>\n",
       "    </tr>\n",
       "    <tr>\n",
       "      <th>3</th>\n",
       "      <td>NEWS02580</td>\n",
       "      <td>20200605</td>\n",
       "      <td>[마감]코스닥 기관 678억 순매도</td>\n",
       "      <td>종합 경제정보 미디어 이데일리 - 무단전재 &amp; 재배포 금지</td>\n",
       "      <td>4</td>\n",
       "      <td>0</td>\n",
       "    </tr>\n",
       "    <tr>\n",
       "      <th>4</th>\n",
       "      <td>NEWS09727</td>\n",
       "      <td>20200626</td>\n",
       "      <td>롯데·공영 등 7개 TV 홈쇼핑들, 동행세일 동참</td>\n",
       "      <td>전국적인 소비 붐 조성에 기여할 예정</td>\n",
       "      <td>1</td>\n",
       "      <td>0</td>\n",
       "    </tr>\n",
       "  </tbody>\n",
       "</table>\n",
       "</div>"
      ],
      "text/plain": [
       "        n_id      date                        title  \\\n",
       "0  NEWS02580  20200605          [마감]코스닥 기관 678억 순매도   \n",
       "1  NEWS02580  20200605          [마감]코스닥 기관 678억 순매도   \n",
       "2  NEWS02580  20200605          [마감]코스닥 기관 678억 순매도   \n",
       "3  NEWS02580  20200605          [마감]코스닥 기관 678억 순매도   \n",
       "4  NEWS09727  20200626  롯데·공영 등 7개 TV 홈쇼핑들, 동행세일 동참   \n",
       "\n",
       "                                      content  ord  info  \n",
       "0  [이데일리 MARKETPOINT]15:32 현재 코스닥 기관 678억 순매도    1     0  \n",
       "1       \"실적기반\" 저가에 매집해야 할 8월 급등유망주 TOP 5 전격공개    2     1  \n",
       "2           하이스탁론, 선취수수료 없는 월 0.4% 최저금리 상품 출시    3     1  \n",
       "3            종합 경제정보 미디어 이데일리 - 무단전재 & 재배포 금지    4     0  \n",
       "4                        전국적인 소비 붐 조성에 기여할 예정    1     0  "
      ]
     },
     "execution_count": 29,
     "metadata": {},
     "output_type": "execute_result"
    }
   ],
   "source": [
    "train.head()"
   ]
  },
  {
   "cell_type": "code",
   "execution_count": 30,
   "metadata": {
    "ExecuteTime": {
     "end_time": "2020-12-24T07:53:43.402861Z",
     "start_time": "2020-12-24T07:53:43.349097Z"
    }
   },
   "outputs": [],
   "source": [
    "def labelling(x):\n",
    "    return '__label__' + str(x)\n",
    "\n",
    "train['label'] = train['info'].map(labelling)"
   ]
  },
  {
   "cell_type": "code",
   "execution_count": 32,
   "metadata": {
    "ExecuteTime": {
     "end_time": "2020-12-24T07:54:12.335854Z",
     "start_time": "2020-12-24T07:54:12.312106Z"
    }
   },
   "outputs": [],
   "source": [
    "train_df = train.loc[:,['content','label']]\n",
    "test_df = test.loc[:,'content']\n",
    "test_df = pd.DataFrame(test_df)"
   ]
  },
  {
   "cell_type": "code",
   "execution_count": 36,
   "metadata": {
    "ExecuteTime": {
     "end_time": "2020-12-24T07:55:40.133490Z",
     "start_time": "2020-12-24T07:55:37.302106Z"
    }
   },
   "outputs": [],
   "source": [
    "from konlpy.tag import Komoran\n",
    "tokenizer = Komoran()"
   ]
  },
  {
   "cell_type": "code",
   "execution_count": 49,
   "metadata": {
    "ExecuteTime": {
     "end_time": "2020-12-24T08:04:12.661707Z",
     "start_time": "2020-12-24T08:03:05.521628Z"
    }
   },
   "outputs": [],
   "source": [
    "def token(x):\n",
    "    result = tokenizer.morphs(x)\n",
    "    return ' '.join(result)\n",
    "\n",
    "train_df['content_token'] = train_df['content'].map(token)"
   ]
  },
  {
   "cell_type": "code",
   "execution_count": 57,
   "metadata": {
    "ExecuteTime": {
     "end_time": "2020-12-24T08:07:28.531657Z",
     "start_time": "2020-12-24T08:06:10.795032Z"
    }
   },
   "outputs": [],
   "source": [
    "test_df['content_token'] = test_df['content'].map(token)"
   ]
  },
  {
   "cell_type": "code",
   "execution_count": 60,
   "metadata": {
    "ExecuteTime": {
     "end_time": "2020-12-24T08:08:18.681446Z",
     "start_time": "2020-12-24T08:08:18.645933Z"
    }
   },
   "outputs": [],
   "source": [
    "train_df_final = train_df.loc[:,['content_token','label']]\n",
    "test_df_final = test_df.loc[:,'content_token']\n",
    "test_df_final = pd.DataFrame(test_df_final)"
   ]
  },
  {
   "cell_type": "code",
   "execution_count": 62,
   "metadata": {
    "ExecuteTime": {
     "end_time": "2020-12-24T08:08:33.680089Z",
     "start_time": "2020-12-24T08:08:32.965106Z"
    }
   },
   "outputs": [],
   "source": [
    "train_df_final.to_csv('train_df.txt', index=False, header=None, sep=\"\\t\")\n",
    "test_df_final.to_csv('test_df.txt', index=False, header=None, sep=\"\\t\")"
   ]
  },
  {
   "cell_type": "markdown",
   "metadata": {},
   "source": [
    "# After fasttext"
   ]
  },
  {
   "cell_type": "code",
   "execution_count": 69,
   "metadata": {
    "ExecuteTime": {
     "end_time": "2020-12-24T08:22:54.382507Z",
     "start_time": "2020-12-24T08:22:54.350133Z"
    }
   },
   "outputs": [],
   "source": [
    "result = pd.read_csv('result.txt', header=None)"
   ]
  },
  {
   "cell_type": "code",
   "execution_count": 73,
   "metadata": {
    "ExecuteTime": {
     "end_time": "2020-12-24T08:23:41.107875Z",
     "start_time": "2020-12-24T08:23:41.080780Z"
    }
   },
   "outputs": [],
   "source": [
    "result['info'] = result[0].map(lambda x : x[-1])"
   ]
  },
  {
   "cell_type": "code",
   "execution_count": 75,
   "metadata": {
    "ExecuteTime": {
     "end_time": "2020-12-24T08:23:48.137079Z",
     "start_time": "2020-12-24T08:23:48.118073Z"
    }
   },
   "outputs": [
    {
     "data": {
      "text/html": [
       "<div>\n",
       "<style scoped>\n",
       "    .dataframe tbody tr th:only-of-type {\n",
       "        vertical-align: middle;\n",
       "    }\n",
       "\n",
       "    .dataframe tbody tr th {\n",
       "        vertical-align: top;\n",
       "    }\n",
       "\n",
       "    .dataframe thead th {\n",
       "        text-align: right;\n",
       "    }\n",
       "</style>\n",
       "<table border=\"1\" class=\"dataframe\">\n",
       "  <thead>\n",
       "    <tr style=\"text-align: right;\">\n",
       "      <th></th>\n",
       "      <th>0</th>\n",
       "      <th>info</th>\n",
       "    </tr>\n",
       "  </thead>\n",
       "  <tbody>\n",
       "    <tr>\n",
       "      <th>0</th>\n",
       "      <td>__label__0</td>\n",
       "      <td>0</td>\n",
       "    </tr>\n",
       "    <tr>\n",
       "      <th>1</th>\n",
       "      <td>__label__0</td>\n",
       "      <td>0</td>\n",
       "    </tr>\n",
       "    <tr>\n",
       "      <th>2</th>\n",
       "      <td>__label__0</td>\n",
       "      <td>0</td>\n",
       "    </tr>\n",
       "    <tr>\n",
       "      <th>3</th>\n",
       "      <td>__label__0</td>\n",
       "      <td>0</td>\n",
       "    </tr>\n",
       "    <tr>\n",
       "      <th>4</th>\n",
       "      <td>__label__0</td>\n",
       "      <td>0</td>\n",
       "    </tr>\n",
       "  </tbody>\n",
       "</table>\n",
       "</div>"
      ],
      "text/plain": [
       "            0 info\n",
       "0  __label__0    0\n",
       "1  __label__0    0\n",
       "2  __label__0    0\n",
       "3  __label__0    0\n",
       "4  __label__0    0"
      ]
     },
     "execution_count": 75,
     "metadata": {},
     "output_type": "execute_result"
    }
   ],
   "source": [
    "result.head()"
   ]
  },
  {
   "cell_type": "code",
   "execution_count": 76,
   "metadata": {
    "ExecuteTime": {
     "end_time": "2020-12-24T08:24:31.844046Z",
     "start_time": "2020-12-24T08:24:31.699993Z"
    }
   },
   "outputs": [],
   "source": [
    "sub['info'] = result['info']\n",
    "sub.to_csv('submission.csv', index=False)"
   ]
  },
  {
   "cell_type": "code",
   "execution_count": 77,
   "metadata": {
    "ExecuteTime": {
     "end_time": "2020-12-24T08:25:07.036002Z",
     "start_time": "2020-12-24T08:25:06.846034Z"
    }
   },
   "outputs": [
    {
     "data": {
      "text/html": [
       "<div>\n",
       "<style scoped>\n",
       "    .dataframe tbody tr th:only-of-type {\n",
       "        vertical-align: middle;\n",
       "    }\n",
       "\n",
       "    .dataframe tbody tr th {\n",
       "        vertical-align: top;\n",
       "    }\n",
       "\n",
       "    .dataframe thead th {\n",
       "        text-align: right;\n",
       "    }\n",
       "</style>\n",
       "<table border=\"1\" class=\"dataframe\">\n",
       "  <thead>\n",
       "    <tr style=\"text-align: right;\">\n",
       "      <th></th>\n",
       "      <th>id</th>\n",
       "      <th>info</th>\n",
       "    </tr>\n",
       "  </thead>\n",
       "  <tbody>\n",
       "    <tr>\n",
       "      <th>0</th>\n",
       "      <td>NEWS00237_1</td>\n",
       "      <td>0</td>\n",
       "    </tr>\n",
       "    <tr>\n",
       "      <th>1</th>\n",
       "      <td>NEWS00237_2</td>\n",
       "      <td>0</td>\n",
       "    </tr>\n",
       "    <tr>\n",
       "      <th>2</th>\n",
       "      <td>NEWS00237_3</td>\n",
       "      <td>0</td>\n",
       "    </tr>\n",
       "    <tr>\n",
       "      <th>3</th>\n",
       "      <td>NEWS00237_4</td>\n",
       "      <td>0</td>\n",
       "    </tr>\n",
       "    <tr>\n",
       "      <th>4</th>\n",
       "      <td>NEWS00237_5</td>\n",
       "      <td>0</td>\n",
       "    </tr>\n",
       "    <tr>\n",
       "      <th>...</th>\n",
       "      <td>...</td>\n",
       "      <td>...</td>\n",
       "    </tr>\n",
       "    <tr>\n",
       "      <th>142560</th>\n",
       "      <td>NEWS09482_72</td>\n",
       "      <td>1</td>\n",
       "    </tr>\n",
       "    <tr>\n",
       "      <th>142561</th>\n",
       "      <td>NEWS09482_73</td>\n",
       "      <td>1</td>\n",
       "    </tr>\n",
       "    <tr>\n",
       "      <th>142562</th>\n",
       "      <td>NEWS09482_74</td>\n",
       "      <td>1</td>\n",
       "    </tr>\n",
       "    <tr>\n",
       "      <th>142563</th>\n",
       "      <td>NEWS09482_75</td>\n",
       "      <td>1</td>\n",
       "    </tr>\n",
       "    <tr>\n",
       "      <th>142564</th>\n",
       "      <td>NEWS09482_76</td>\n",
       "      <td>1</td>\n",
       "    </tr>\n",
       "  </tbody>\n",
       "</table>\n",
       "<p>142565 rows × 2 columns</p>\n",
       "</div>"
      ],
      "text/plain": [
       "                  id info\n",
       "0        NEWS00237_1    0\n",
       "1        NEWS00237_2    0\n",
       "2        NEWS00237_3    0\n",
       "3        NEWS00237_4    0\n",
       "4        NEWS00237_5    0\n",
       "...              ...  ...\n",
       "142560  NEWS09482_72    1\n",
       "142561  NEWS09482_73    1\n",
       "142562  NEWS09482_74    1\n",
       "142563  NEWS09482_75    1\n",
       "142564  NEWS09482_76    1\n",
       "\n",
       "[142565 rows x 2 columns]"
      ]
     },
     "execution_count": 77,
     "metadata": {},
     "output_type": "execute_result"
    }
   ],
   "source": [
    "sub"
   ]
  }
 ],
 "metadata": {
  "kernelspec": {
   "display_name": "Python 3",
   "language": "python",
   "name": "python3"
  },
  "language_info": {
   "codemirror_mode": {
    "name": "ipython",
    "version": 3
   },
   "file_extension": ".py",
   "mimetype": "text/x-python",
   "name": "python",
   "nbconvert_exporter": "python",
   "pygments_lexer": "ipython3",
   "version": "3.8.3"
  }
 },
 "nbformat": 4,
 "nbformat_minor": 4
}
