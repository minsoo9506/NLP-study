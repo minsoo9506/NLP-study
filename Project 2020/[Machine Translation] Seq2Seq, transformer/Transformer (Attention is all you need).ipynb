{
 "cells": [
  {
   "cell_type": "markdown",
   "metadata": {},
   "source": [
    "link : https://github.com/AladdinPerzon/Machine-Learning-Collection/blob/master/ML/Pytorch/more_advanced/transformer_from_scratch/transformer_from_scratch.py"
   ]
  },
  {
   "cell_type": "code",
   "execution_count": 2,
   "metadata": {
    "ExecuteTime": {
     "end_time": "2020-07-30T08:18:07.368151Z",
     "start_time": "2020-07-30T08:18:06.771706Z"
    }
   },
   "outputs": [],
   "source": [
    "import torch\n",
    "import torch.nn as nn"
   ]
  },
  {
   "cell_type": "code",
   "execution_count": 6,
   "metadata": {
    "ExecuteTime": {
     "end_time": "2020-07-30T08:24:43.041580Z",
     "start_time": "2020-07-30T08:24:43.018877Z"
    }
   },
   "outputs": [],
   "source": [
    "class MultiHeadAttention(nn.Module):\n",
    "    def __init__(self, embedSize, heads):\n",
    "        super(MultiHeadAttention, self).__init__()\n",
    "        \n",
    "        self.embedSize = embedSize\n",
    "        self.heads = heads\n",
    "        self.headDim =  embedSize // heads\n",
    "        \n",
    "        assert (self.headDim*self.heads == self.embedSize), \"Embedding size needs to be fixed\"\n",
    "\n",
    "        self.values = nn.Linear(self.headDim, self.headDim, bias=False)\n",
    "        self.keys = nn.Linear(self.headDim, self.headDim, bias=False)\n",
    "        self.queries = nn.Linear(self.headDim, self.headDim, bias=False)\n",
    "        self.fc = nn.Linear(self.heads*self.headDim, embedSize)\n",
    "        \n",
    "    def forward(self, value, key, query):\n",
    "        # N : number of training example\n",
    "        N = query.shape[0]\n",
    "        \n",
    "        valueLen, keyLen, queryLen = value.shape[1], key.shape[1], query.shape[1]\n",
    "        \n",
    "        # Split the embedding into heads\n",
    "        values = value.reshape(N, valueLen, self.heads, self.headDim)\n",
    "        keys = key.reshape(N, keyLen, self.heads, self.headDim)\n",
    "        queries = query.reshape(N, queryLen, self.heads, self.headDim)\n",
    "        \n",
    "        values = self.values(values)\n",
    "        keys = self.keys(keys)\n",
    "        queries = self.queries(queries)\n",
    "        \n",
    "        energy = torch.einsum(\"nqhd,nkhd->nhqk\", [queries, keys])\n",
    "        # (N, heads, queryLen, keyLen)\n",
    "        \n",
    "        if mask is not None:\n",
    "            energy = energy.masked_fill(mask==0, float(\"-1e20\"))\n",
    "            \n",
    "        attention = torch.softmax(energy / (self.embedSize ** (1 / 2)), dim=3)\n",
    "        # attention shape: (N, heads, queryLen, keyLen)\n",
    "        \n",
    "        out = torch.einsum(\"nhql,nlhd->nqhd\", [attention, values]).reshape(\n",
    "            N, queryLen, self.heads * self.headDim)\n",
    "        # out after matrix multiply: (N, queryLen, heads, head_dim), then\n",
    "        # we reshape and flatten the last two dimensions.\n",
    "\n",
    "        out = self.fc(out)\n",
    "        # final shape : (N, query_len, embedSize)\n",
    "\n",
    "        return out"
   ]
  },
  {
   "cell_type": "code",
   "execution_count": 7,
   "metadata": {
    "ExecuteTime": {
     "end_time": "2020-07-30T08:24:43.961121Z",
     "start_time": "2020-07-30T08:24:43.955912Z"
    }
   },
   "outputs": [],
   "source": [
    "class TransformerBlock(nn.Module):\n",
    "    def __init__(self, embedSize, heads, dropout, forwardExpansion):\n",
    "        super(TransformerBlock, self).__init__()\n",
    "        \n",
    "        self.attention = MultiHeadAttention(embedSize, heads)\n",
    "        self.norm1 = nn.LayerNorm(embedSize)\n",
    "        self.norm2 = nn.LayerNorm(embedSize)\n",
    "\n",
    "        self.feedForward = nn.Sequential(\n",
    "            nn.Linear(embedSize, forwardExpansion * embedSize),\n",
    "            nn.ReLU(),\n",
    "            nn.Linear(forwardExpansion * embedSize, embedSize),\n",
    "        )\n",
    "\n",
    "        self.dropout = nn.Dropout(dropout)\n",
    "\n",
    "    def forward(self, value, key, query, mask):\n",
    "        attention = self.attention(value, key, query, mask)\n",
    "        x = self.dropout(self.norm1(attention + query))\n",
    "        forward = self.feedForward(x)\n",
    "        out = self.dropout(self.norm2(forward + x))\n",
    "        return out"
   ]
  },
  {
   "cell_type": "code",
   "execution_count": 8,
   "metadata": {
    "ExecuteTime": {
     "end_time": "2020-07-30T08:24:44.328451Z",
     "start_time": "2020-07-30T08:24:44.319198Z"
    }
   },
   "outputs": [],
   "source": [
    "class Encoder(nn.Module):\n",
    "    def __init__(\n",
    "        self,\n",
    "        srcVocabSize,\n",
    "        embedSize,\n",
    "        numLayers,\n",
    "        heads,\n",
    "        device,\n",
    "        forwardExpansion,\n",
    "        dropout,\n",
    "        maxLength,\n",
    "    ):\n",
    "\n",
    "        super(Encoder, self).__init__()\n",
    "        self.embedSize = embedSize\n",
    "        self.device = device\n",
    "        self.wordEmbedding = nn.Embedding(srcVocabSize, embedSize)\n",
    "        self.positionEmbedding = nn.Embedding(maxLength, embedSize)\n",
    "\n",
    "        self.layers = nn.ModuleList(\n",
    "            [\n",
    "                TransformerBlock(\n",
    "                    embedSize,\n",
    "                    heads,\n",
    "                    dropout=dropout,\n",
    "                    forwardExpansion=forwardExpansion,\n",
    "                )\n",
    "                for _ in range(numLayers)\n",
    "            ]\n",
    "        )\n",
    "\n",
    "        self.dropout = nn.Dropout(dropout)\n",
    "\n",
    "    def forward(self, x, mask):\n",
    "        N, seqLength = x.shape\n",
    "        positions = torch.arange(0, seqLength).expand(N, seqLength).to(self.device)\n",
    "        out = self.dropout(self.wordEmbedding(x) + self.positionEmbedding(positions))\n",
    "\n",
    "        # In the Encoder the query, key, value are all the same \n",
    "        # it's in the decoder this will change. \n",
    "        for layer in self.layers:\n",
    "            out = layer(out, out, out, mask)\n",
    "\n",
    "        return out"
   ]
  },
  {
   "cell_type": "code",
   "execution_count": 9,
   "metadata": {
    "ExecuteTime": {
     "end_time": "2020-07-30T08:24:44.751137Z",
     "start_time": "2020-07-30T08:24:44.735587Z"
    }
   },
   "outputs": [],
   "source": [
    "class DecoderBlock(nn.Module):\n",
    "    def __init__(self, embedSize, heads, forwardExpansion, dropout, device):\n",
    "        super(DecoderBlock, self).__init__()\n",
    "        \n",
    "        self.norm = nn.LayerNorm(embedSize)\n",
    "        self.attention = MultiHeadAttention(embedSize, heads=heads)\n",
    "        self.transformerBlock = TransformerBlock(\n",
    "            embedSize, heads, dropout, forwardExpansion\n",
    "        )\n",
    "        self.dropout = nn.Dropout(dropout)\n",
    "\n",
    "    def forward(self, x, value, key, srcMask, trgMask):\n",
    "        attention = self.attention(x, x, x, trgMask)\n",
    "        query = self.dropout(self.norm(attention + x))\n",
    "        out = self.transformerBlock(value, key, query, srcMask)\n",
    "        return out"
   ]
  },
  {
   "cell_type": "code",
   "execution_count": 10,
   "metadata": {
    "ExecuteTime": {
     "end_time": "2020-07-30T08:24:45.065565Z",
     "start_time": "2020-07-30T08:24:45.059459Z"
    }
   },
   "outputs": [],
   "source": [
    "class Decoder(nn.Module):\n",
    "    def __init__(\n",
    "        self,\n",
    "        trgVocabSize,\n",
    "        embedSize,\n",
    "        numLayers,\n",
    "        heads,\n",
    "        forwardExpansion,\n",
    "        dropout,\n",
    "        device,\n",
    "        maxLength,\n",
    "    ):\n",
    "        super(Decoder, self).__init__()\n",
    "        \n",
    "        self.device = device\n",
    "        self.wordEmbedding = nn.Embedding(trgVocabSize, embedSize)\n",
    "        self.positionEmbedding = nn.Embedding(maxLength, embedSize)\n",
    "\n",
    "        self.layers = nn.ModuleList(\n",
    "            [\n",
    "                DecoderBlock(embedSize, heads, forwardExpansion, dropout, device)\n",
    "                for _ in range(numLayers)\n",
    "            ]\n",
    "        )\n",
    "        self.fc = nn.Linear(embedSize, trgVocabSize)\n",
    "        self.dropout = nn.Dropout(dropout)\n",
    "\n",
    "    def forward(self, x, encOut, srcMask, trgMask):\n",
    "        N, seqLength = x.shape\n",
    "        positions = torch.arange(0, seqLength).expand(N, seqLength).to(self.device)\n",
    "        x = self.dropout((self.wordEmbedding(x) + self.positionEmbedding(positions)))\n",
    "\n",
    "        for layer in self.layers:\n",
    "            x = layer(x, encOut, encOut, srcMask, trgMask)\n",
    "\n",
    "        out = self.fc(x)\n",
    "\n",
    "        return out\n"
   ]
  },
  {
   "cell_type": "code",
   "execution_count": 11,
   "metadata": {
    "ExecuteTime": {
     "end_time": "2020-07-30T08:24:45.445345Z",
     "start_time": "2020-07-30T08:24:45.417565Z"
    }
   },
   "outputs": [],
   "source": [
    "class Transformer(nn.Module):\n",
    "    def __init__(\n",
    "        self,\n",
    "        srcVocabSize,\n",
    "        trgVocabSize,\n",
    "        srcPadIdx,\n",
    "        trgPadIdx,\n",
    "        embedSize=512,\n",
    "        numLayers=6,\n",
    "        forwardExpansion=4,\n",
    "        heads=8,\n",
    "        dropout=0,\n",
    "        device=\"cuda\",\n",
    "        maxLength=100,\n",
    "    ):\n",
    "\n",
    "        super(Transformer, self).__init__()\n",
    "\n",
    "        self.encoder = Encoder(\n",
    "            srcVocabSize,\n",
    "            embedSize,\n",
    "            numLayers,\n",
    "            heads,\n",
    "            device,\n",
    "            forwardExpansion,\n",
    "            dropout,\n",
    "            maxLength,\n",
    "        )\n",
    "\n",
    "        self.decoder = Decoder(\n",
    "            trgVocabSize,\n",
    "            embedSize,\n",
    "            numLayers,\n",
    "            heads,\n",
    "            forwardExpansion,\n",
    "            dropout,\n",
    "            device,\n",
    "            maxLength,\n",
    "        )\n",
    "\n",
    "        self.srcPadIdx = srcPadIdx\n",
    "        self.trgPadIdx = trgPadIdx\n",
    "        self.device = device\n",
    "\n",
    "    def makeSrcMask(self, src):\n",
    "        srcMask = (src != self.srcPadIdx).unsqueeze(1).unsqueeze(2)\n",
    "        # (N, 1, 1, srcLen)\n",
    "        return srcMask.to(self.device)\n",
    "\n",
    "    def makeTrgMask(self, trg):\n",
    "        N, trgLen = trg.shape\n",
    "        trgMask = torch.tril(torch.ones((trgLen, trgLen))).expand(\n",
    "            N, 1, trgLen, trgLen)\n",
    "\n",
    "        return trgMask.to(self.device)\n",
    "\n",
    "    def forward(self, src, trg):\n",
    "        srcMask = self.makeSrcMask(src)\n",
    "        trgMask = self.makeTrgMask(trg)\n",
    "        encSrc = self.encoder(src, srcMask)\n",
    "        out = self.decoder(trg, encSrc, srcMask, trgMask)\n",
    "        return out"
   ]
  },
  {
   "cell_type": "markdown",
   "metadata": {},
   "source": [
    "# Simple Example"
   ]
  },
  {
   "cell_type": "code",
   "execution_count": 13,
   "metadata": {
    "ExecuteTime": {
     "end_time": "2020-07-30T08:24:57.076045Z",
     "start_time": "2020-07-30T08:24:57.074098Z"
    }
   },
   "outputs": [],
   "source": [
    "device = torch.device(\"cuda\" if torch.cuda.is_available() else \"cpu\")\n",
    "\n",
    "x = torch.tensor([[1, 5, 6, 4, 3, 9, 5, 2, 0], [1, 8, 7, 3, 4, 5, 6, 7, 2]]).to(\n",
    "    device\n",
    ")\n",
    "trg = torch.tensor([[1, 7, 4, 3, 5, 9, 2, 0], [1, 5, 6, 2, 4, 7, 6, 2]]).to(device)\n",
    "\n",
    "src_pad_idx = 0\n",
    "trg_pad_idx = 0\n",
    "src_vocab_size = 10\n",
    "trg_vocab_size = 10\n",
    "model = Transformer(src_vocab_size, trg_vocab_size, src_pad_idx, trg_pad_idx).to(\n",
    "    device\n",
    ")\n",
    "out = model(x, trg[:, :-1])\n",
    "print(out.shape)"
   ]
  }
 ],
 "metadata": {
  "kernelspec": {
   "display_name": "Python 3",
   "language": "python",
   "name": "python3"
  },
  "language_info": {
   "codemirror_mode": {
    "name": "ipython",
    "version": 3
   },
   "file_extension": ".py",
   "mimetype": "text/x-python",
   "name": "python",
   "nbconvert_exporter": "python",
   "pygments_lexer": "ipython3",
   "version": "3.7.7"
  }
 },
 "nbformat": 4,
 "nbformat_minor": 4
}
